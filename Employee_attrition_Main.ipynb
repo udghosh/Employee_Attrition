{
  "nbformat": 4,
  "nbformat_minor": 0,
  "metadata": {
    "colab": {
      "name": "Employee_attrition_Main.ipynb",
      "provenance": [],
      "authorship_tag": "ABX9TyNCx5p9k15BTgnLQ5kMWjwz",
      "include_colab_link": true
    },
    "kernelspec": {
      "name": "python3",
      "display_name": "Python 3"
    }
  },
  "cells": [
    {
      "cell_type": "markdown",
      "metadata": {
        "id": "view-in-github",
        "colab_type": "text"
      },
      "source": [
        "<a href=\"https://colab.research.google.com/github/udghosh/Employee_Attrition/blob/main/Employee_attrition_Main.ipynb\" target=\"_parent\"><img src=\"https://colab.research.google.com/assets/colab-badge.svg\" alt=\"Open In Colab\"/></a>"
      ]
    },
    {
      "cell_type": "code",
      "metadata": {
        "id": "XtCUreyap9ji"
      },
      "source": [
        "import numpy as np\n",
        "import pandas as pd\n",
        "import seaborn as sns"
      ],
      "execution_count": null,
      "outputs": []
    },
    {
      "cell_type": "code",
      "metadata": {
        "id": "EOAhRHU8sKuw",
        "colab": {
          "resources": {
            "http://localhost:8080/nbextensions/google.colab/files.js": {
              "data": "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",
              "ok": true,
              "headers": [
                [
                  "content-type",
                  "application/javascript"
                ]
              ],
              "status": 200,
              "status_text": ""
            }
          },
          "base_uri": "https://localhost:8080/",
          "height": 73
        },
        "outputId": "dbbc8bb3-26fc-4988-c8e2-ad5298029741"
      },
      "source": [
        "from google.colab import files\n",
        "uploaded = files.upload()"
      ],
      "execution_count": null,
      "outputs": [
        {
          "output_type": "display_data",
          "data": {
            "text/html": [
              "\n",
              "     <input type=\"file\" id=\"files-d586e2ab-5330-4563-b860-f808639625a7\" name=\"files[]\" multiple disabled\n",
              "        style=\"border:none\" />\n",
              "     <output id=\"result-d586e2ab-5330-4563-b860-f808639625a7\">\n",
              "      Upload widget is only available when the cell has been executed in the\n",
              "      current browser session. Please rerun this cell to enable.\n",
              "      </output>\n",
              "      <script src=\"/nbextensions/google.colab/files.js\"></script> "
            ],
            "text/plain": [
              "<IPython.core.display.HTML object>"
            ]
          },
          "metadata": {
            "tags": []
          }
        },
        {
          "output_type": "stream",
          "text": [
            "Saving Ml data.csv to Ml data (4).csv\n"
          ],
          "name": "stdout"
        }
      ]
    },
    {
      "cell_type": "code",
      "metadata": {
        "id": "AZ-AvixRq-rr",
        "colab": {
          "base_uri": "https://localhost:8080/",
          "height": 274
        },
        "outputId": "6b238a79-e5b2-43dc-9d70-f176c9bc7633"
      },
      "source": [
        "#df = pd.read_csv('Ml data.csv',header=0)\n",
        "df = pd.read_csv('Ml data (4).csv',names=['Stay/Left', 'Location', 'Emp. Group', 'Function', 'Gender', 'Tenure',\t'Tenure Grp.',\t'Experience (YY.MM)',\t'Marital Status',\t'Age in YY.',\t'Hiring Source',\t'Promoted/Non Promoted',\t'Job Role Match',\t'Commuting Problems',\t'Tools provided for the job',\t'Job Security',\t'Company Benefits',\t'Career Development'])\n",
        "df.head(5)"
      ],
      "execution_count": null,
      "outputs": [
        {
          "output_type": "execute_result",
          "data": {
            "text/html": [
              "<div>\n",
              "<style scoped>\n",
              "    .dataframe tbody tr th:only-of-type {\n",
              "        vertical-align: middle;\n",
              "    }\n",
              "\n",
              "    .dataframe tbody tr th {\n",
              "        vertical-align: top;\n",
              "    }\n",
              "\n",
              "    .dataframe thead th {\n",
              "        text-align: right;\n",
              "    }\n",
              "</style>\n",
              "<table border=\"1\" class=\"dataframe\">\n",
              "  <thead>\n",
              "    <tr style=\"text-align: right;\">\n",
              "      <th></th>\n",
              "      <th>Stay/Left</th>\n",
              "      <th>Location</th>\n",
              "      <th>Emp. Group</th>\n",
              "      <th>Function</th>\n",
              "      <th>Gender</th>\n",
              "      <th>Tenure</th>\n",
              "      <th>Tenure Grp.</th>\n",
              "      <th>Experience (YY.MM)</th>\n",
              "      <th>Marital Status</th>\n",
              "      <th>Age in YY.</th>\n",
              "      <th>Hiring Source</th>\n",
              "      <th>Promoted/Non Promoted</th>\n",
              "      <th>Job Role Match</th>\n",
              "      <th>Commuting Problems</th>\n",
              "      <th>Tools provided for the job</th>\n",
              "      <th>Job Security</th>\n",
              "      <th>Company Benefits</th>\n",
              "      <th>Career Development</th>\n",
              "    </tr>\n",
              "  </thead>\n",
              "  <tbody>\n",
              "    <tr>\n",
              "      <th>0</th>\n",
              "      <td>Left</td>\n",
              "      <td>Pune</td>\n",
              "      <td>B2</td>\n",
              "      <td>Operation</td>\n",
              "      <td>Male</td>\n",
              "      <td>0.00</td>\n",
              "      <td>&lt; =1</td>\n",
              "      <td>6.08</td>\n",
              "      <td>Single</td>\n",
              "      <td>27.12</td>\n",
              "      <td>Direct</td>\n",
              "      <td>Non Promoted</td>\n",
              "      <td>Yes</td>\n",
              "      <td>5</td>\n",
              "      <td>7</td>\n",
              "      <td>5</td>\n",
              "      <td>4</td>\n",
              "      <td>9</td>\n",
              "    </tr>\n",
              "    <tr>\n",
              "      <th>1</th>\n",
              "      <td>Stay</td>\n",
              "      <td>Noida</td>\n",
              "      <td>B7</td>\n",
              "      <td>Support</td>\n",
              "      <td>Male</td>\n",
              "      <td>0.00</td>\n",
              "      <td>&lt; =1</td>\n",
              "      <td>13.00</td>\n",
              "      <td>Marr.</td>\n",
              "      <td>38.08</td>\n",
              "      <td>Direct</td>\n",
              "      <td>Promoted</td>\n",
              "      <td>No</td>\n",
              "      <td>8</td>\n",
              "      <td>3</td>\n",
              "      <td>4</td>\n",
              "      <td>6</td>\n",
              "      <td>7</td>\n",
              "    </tr>\n",
              "    <tr>\n",
              "      <th>2</th>\n",
              "      <td>Stay</td>\n",
              "      <td>Bangalore</td>\n",
              "      <td>B3</td>\n",
              "      <td>Operation</td>\n",
              "      <td>Male</td>\n",
              "      <td>0.01</td>\n",
              "      <td>&lt; =1</td>\n",
              "      <td>16.05</td>\n",
              "      <td>Marr.</td>\n",
              "      <td>36.04</td>\n",
              "      <td>Direct</td>\n",
              "      <td>Promoted</td>\n",
              "      <td>Yes</td>\n",
              "      <td>7</td>\n",
              "      <td>8</td>\n",
              "      <td>7</td>\n",
              "      <td>4</td>\n",
              "      <td>6</td>\n",
              "    </tr>\n",
              "    <tr>\n",
              "      <th>3</th>\n",
              "      <td>Stay</td>\n",
              "      <td>Noida</td>\n",
              "      <td>B2</td>\n",
              "      <td>Operation</td>\n",
              "      <td>Male</td>\n",
              "      <td>0.01</td>\n",
              "      <td>&lt; =1</td>\n",
              "      <td>6.06</td>\n",
              "      <td>Marr.</td>\n",
              "      <td>32.07</td>\n",
              "      <td>Direct</td>\n",
              "      <td>Promoted</td>\n",
              "      <td>Yes</td>\n",
              "      <td>4</td>\n",
              "      <td>6</td>\n",
              "      <td>7</td>\n",
              "      <td>9</td>\n",
              "      <td>5</td>\n",
              "    </tr>\n",
              "    <tr>\n",
              "      <th>4</th>\n",
              "      <td>Stay</td>\n",
              "      <td>Lucknow</td>\n",
              "      <td>B2</td>\n",
              "      <td>Operation</td>\n",
              "      <td>Male</td>\n",
              "      <td>0.00</td>\n",
              "      <td>&lt; =1</td>\n",
              "      <td>7.00</td>\n",
              "      <td>Marr.</td>\n",
              "      <td>32.05</td>\n",
              "      <td>Direct</td>\n",
              "      <td>Non Promoted</td>\n",
              "      <td>Yes</td>\n",
              "      <td>4</td>\n",
              "      <td>6</td>\n",
              "      <td>5</td>\n",
              "      <td>5</td>\n",
              "      <td>4</td>\n",
              "    </tr>\n",
              "  </tbody>\n",
              "</table>\n",
              "</div>"
            ],
            "text/plain": [
              "  Stay/Left   Location  ... Company Benefits Career Development\n",
              "0      Left       Pune  ...                4                  9\n",
              "1      Stay      Noida  ...                6                  7\n",
              "2      Stay  Bangalore  ...                4                  6\n",
              "3      Stay      Noida  ...                9                  5\n",
              "4      Stay    Lucknow  ...                5                  4\n",
              "\n",
              "[5 rows x 18 columns]"
            ]
          },
          "metadata": {
            "tags": []
          },
          "execution_count": 38
        }
      ]
    },
    {
      "cell_type": "code",
      "metadata": {
        "id": "AOpBNjHvxBQy",
        "colab": {
          "base_uri": "https://localhost:8080/"
        },
        "outputId": "ec307437-4a24-4f1b-e846-da0c2b3313f0"
      },
      "source": [
        "df.shape"
      ],
      "execution_count": null,
      "outputs": [
        {
          "output_type": "execute_result",
          "data": {
            "text/plain": [
              "(902, 18)"
            ]
          },
          "metadata": {
            "tags": []
          },
          "execution_count": 39
        }
      ]
    },
    {
      "cell_type": "code",
      "metadata": {
        "id": "M8qbrHIOxG7r",
        "colab": {
          "base_uri": "https://localhost:8080/"
        },
        "outputId": "1506762a-61c6-4e3f-947d-84ee7a6d9651"
      },
      "source": [
        "df.dtypes"
      ],
      "execution_count": null,
      "outputs": [
        {
          "output_type": "execute_result",
          "data": {
            "text/plain": [
              "Stay/Left                      object\n",
              "Location                       object\n",
              "Emp. Group                     object\n",
              "Function                       object\n",
              "Gender                         object\n",
              "Tenure                        float64\n",
              "Tenure Grp.                    object\n",
              "Experience (YY.MM)            float64\n",
              "Marital Status                 object\n",
              "Age in YY.                    float64\n",
              "Hiring Source                  object\n",
              "Promoted/Non Promoted          object\n",
              "Job Role Match                 object\n",
              "Commuting Problems              int64\n",
              "Tools provided for the job      int64\n",
              "Job Security                    int64\n",
              "Company Benefits                int64\n",
              "Career Development              int64\n",
              "dtype: object"
            ]
          },
          "metadata": {
            "tags": []
          },
          "execution_count": 40
        }
      ]
    },
    {
      "cell_type": "code",
      "metadata": {
        "id": "PFI8JdVjxSGw",
        "colab": {
          "base_uri": "https://localhost:8080/"
        },
        "outputId": "dd3ff7f2-09b6-4841-9f10-36cbbe45375e"
      },
      "source": [
        "df.isna().sum()\n"
      ],
      "execution_count": null,
      "outputs": [
        {
          "output_type": "execute_result",
          "data": {
            "text/plain": [
              "Stay/Left                     0\n",
              "Location                      0\n",
              "Emp. Group                    0\n",
              "Function                      0\n",
              "Gender                        0\n",
              "Tenure                        0\n",
              "Tenure Grp.                   0\n",
              "Experience (YY.MM)            0\n",
              "Marital Status                0\n",
              "Age in YY.                    0\n",
              "Hiring Source                 0\n",
              "Promoted/Non Promoted         0\n",
              "Job Role Match                0\n",
              "Commuting Problems            0\n",
              "Tools provided for the job    0\n",
              "Job Security                  0\n",
              "Company Benefits              0\n",
              "Career Development            0\n",
              "dtype: int64"
            ]
          },
          "metadata": {
            "tags": []
          },
          "execution_count": 41
        }
      ]
    },
    {
      "cell_type": "code",
      "metadata": {
        "id": "Fn8n42ntxdzV",
        "colab": {
          "base_uri": "https://localhost:8080/"
        },
        "outputId": "cec5a842-052e-4773-e120-5c19ff160d96"
      },
      "source": [
        "df.isnull().values.any()"
      ],
      "execution_count": null,
      "outputs": [
        {
          "output_type": "execute_result",
          "data": {
            "text/plain": [
              "False"
            ]
          },
          "metadata": {
            "tags": []
          },
          "execution_count": 42
        }
      ]
    },
    {
      "cell_type": "code",
      "metadata": {
        "id": "wKis-GBu0lrr",
        "colab": {
          "base_uri": "https://localhost:8080/",
          "height": 366
        },
        "outputId": "9f225406-2647-4126-cb22-e447807b2c58"
      },
      "source": [
        "df.describe()"
      ],
      "execution_count": null,
      "outputs": [
        {
          "output_type": "execute_result",
          "data": {
            "text/html": [
              "<div>\n",
              "<style scoped>\n",
              "    .dataframe tbody tr th:only-of-type {\n",
              "        vertical-align: middle;\n",
              "    }\n",
              "\n",
              "    .dataframe tbody tr th {\n",
              "        vertical-align: top;\n",
              "    }\n",
              "\n",
              "    .dataframe thead th {\n",
              "        text-align: right;\n",
              "    }\n",
              "</style>\n",
              "<table border=\"1\" class=\"dataframe\">\n",
              "  <thead>\n",
              "    <tr style=\"text-align: right;\">\n",
              "      <th></th>\n",
              "      <th>Tenure</th>\n",
              "      <th>Experience (YY.MM)</th>\n",
              "      <th>Age in YY.</th>\n",
              "      <th>Commuting Problems</th>\n",
              "      <th>Tools provided for the job</th>\n",
              "      <th>Job Security</th>\n",
              "      <th>Company Benefits</th>\n",
              "      <th>Career Development</th>\n",
              "    </tr>\n",
              "  </thead>\n",
              "  <tbody>\n",
              "    <tr>\n",
              "      <th>count</th>\n",
              "      <td>902.000000</td>\n",
              "      <td>902.000000</td>\n",
              "      <td>902.000000</td>\n",
              "      <td>902.000000</td>\n",
              "      <td>902.000000</td>\n",
              "      <td>902.000000</td>\n",
              "      <td>902.000000</td>\n",
              "      <td>902.000000</td>\n",
              "    </tr>\n",
              "    <tr>\n",
              "      <th>mean</th>\n",
              "      <td>1.198293</td>\n",
              "      <td>5.139956</td>\n",
              "      <td>29.055288</td>\n",
              "      <td>5.202882</td>\n",
              "      <td>5.830377</td>\n",
              "      <td>5.837029</td>\n",
              "      <td>5.835920</td>\n",
              "      <td>5.840355</td>\n",
              "    </tr>\n",
              "    <tr>\n",
              "      <th>std</th>\n",
              "      <td>0.823203</td>\n",
              "      <td>3.481367</td>\n",
              "      <td>4.499554</td>\n",
              "      <td>2.007166</td>\n",
              "      <td>1.911774</td>\n",
              "      <td>1.880752</td>\n",
              "      <td>1.758353</td>\n",
              "      <td>1.988594</td>\n",
              "    </tr>\n",
              "    <tr>\n",
              "      <th>min</th>\n",
              "      <td>0.000000</td>\n",
              "      <td>0.030000</td>\n",
              "      <td>21.050000</td>\n",
              "      <td>1.000000</td>\n",
              "      <td>1.000000</td>\n",
              "      <td>0.000000</td>\n",
              "      <td>1.000000</td>\n",
              "      <td>1.000000</td>\n",
              "    </tr>\n",
              "    <tr>\n",
              "      <th>25%</th>\n",
              "      <td>0.110000</td>\n",
              "      <td>2.100000</td>\n",
              "      <td>26.050000</td>\n",
              "      <td>4.000000</td>\n",
              "      <td>5.000000</td>\n",
              "      <td>5.000000</td>\n",
              "      <td>5.000000</td>\n",
              "      <td>4.000000</td>\n",
              "    </tr>\n",
              "    <tr>\n",
              "      <th>50%</th>\n",
              "      <td>1.060000</td>\n",
              "      <td>4.110000</td>\n",
              "      <td>28.060000</td>\n",
              "      <td>5.000000</td>\n",
              "      <td>6.000000</td>\n",
              "      <td>6.000000</td>\n",
              "      <td>6.000000</td>\n",
              "      <td>6.000000</td>\n",
              "    </tr>\n",
              "    <tr>\n",
              "      <th>75%</th>\n",
              "      <td>2.040000</td>\n",
              "      <td>7.020000</td>\n",
              "      <td>31.070000</td>\n",
              "      <td>7.000000</td>\n",
              "      <td>7.000000</td>\n",
              "      <td>7.000000</td>\n",
              "      <td>7.000000</td>\n",
              "      <td>7.000000</td>\n",
              "    </tr>\n",
              "    <tr>\n",
              "      <th>max</th>\n",
              "      <td>3.000000</td>\n",
              "      <td>25.080000</td>\n",
              "      <td>52.060000</td>\n",
              "      <td>10.000000</td>\n",
              "      <td>10.000000</td>\n",
              "      <td>10.000000</td>\n",
              "      <td>10.000000</td>\n",
              "      <td>9.000000</td>\n",
              "    </tr>\n",
              "  </tbody>\n",
              "</table>\n",
              "</div>"
            ],
            "text/plain": [
              "           Tenure  Experience (YY.MM)  ...  Company Benefits  Career Development\n",
              "count  902.000000          902.000000  ...        902.000000          902.000000\n",
              "mean     1.198293            5.139956  ...          5.835920            5.840355\n",
              "std      0.823203            3.481367  ...          1.758353            1.988594\n",
              "min      0.000000            0.030000  ...          1.000000            1.000000\n",
              "25%      0.110000            2.100000  ...          5.000000            4.000000\n",
              "50%      1.060000            4.110000  ...          6.000000            6.000000\n",
              "75%      2.040000            7.020000  ...          7.000000            7.000000\n",
              "max      3.000000           25.080000  ...         10.000000            9.000000\n",
              "\n",
              "[8 rows x 8 columns]"
            ]
          },
          "metadata": {
            "tags": []
          },
          "execution_count": 43
        }
      ]
    },
    {
      "cell_type": "code",
      "metadata": {
        "id": "Xrr-5mi90vy_",
        "colab": {
          "base_uri": "https://localhost:8080/"
        },
        "outputId": "0c73106e-c0c4-464a-9dab-c3f0b4d5b5a1"
      },
      "source": [
        "df['Stay/Left'].value_counts()"
      ],
      "execution_count": null,
      "outputs": [
        {
          "output_type": "execute_result",
          "data": {
            "text/plain": [
              "Stay    596\n",
              "Left    306\n",
              "Name: Stay/Left, dtype: int64"
            ]
          },
          "metadata": {
            "tags": []
          },
          "execution_count": 44
        }
      ]
    },
    {
      "cell_type": "code",
      "metadata": {
        "id": "Xg9XD_bL1UDT",
        "colab": {
          "base_uri": "https://localhost:8080/",
          "height": 351
        },
        "outputId": "6e0589a6-e51e-45b1-ad78-eb5d813f3dcc"
      },
      "source": [
        "sns.countplot(df['Stay/Left'])"
      ],
      "execution_count": null,
      "outputs": [
        {
          "output_type": "stream",
          "text": [
            "/usr/local/lib/python3.6/dist-packages/seaborn/_decorators.py:43: FutureWarning: Pass the following variable as a keyword arg: x. From version 0.12, the only valid positional argument will be `data`, and passing other arguments without an explicit keyword will result in an error or misinterpretation.\n",
            "  FutureWarning\n"
          ],
          "name": "stderr"
        },
        {
          "output_type": "execute_result",
          "data": {
            "text/plain": [
              "<matplotlib.axes._subplots.AxesSubplot at 0x7f945a1c94e0>"
            ]
          },
          "metadata": {
            "tags": []
          },
          "execution_count": 45
        },
        {
          "output_type": "display_data",
          "data": {
            "image/png": "[encoded data removed]",
            "text/plain": [
              "<Figure size 432x288 with 1 Axes>"
            ]
          },
          "metadata": {
            "tags": [],
            "needs_background": "light"
          }
        }
      ]
    },
    {
      "cell_type": "code",
      "metadata": {
        "id": "CsFwxJto1jXg",
        "colab": {
          "base_uri": "https://localhost:8080/"
        },
        "outputId": "6ace8b2a-5668-418f-8416-d15c62f42e4d"
      },
      "source": [
        "#percentage guess\n",
        "(596 - 306)/596"
      ],
      "execution_count": null,
      "outputs": [
        {
          "output_type": "execute_result",
          "data": {
            "text/plain": [
              "0.4865771812080537"
            ]
          },
          "metadata": {
            "tags": []
          },
          "execution_count": 46
        }
      ]
    },
    {
      "cell_type": "code",
      "metadata": {
        "id": "xXhGNhtj16bv",
        "colab": {
          "base_uri": "https://localhost:8080/",
          "height": 470
        },
        "outputId": "9e5fa3bf-5419-42fe-c7a3-362e8dc8dd5e"
      },
      "source": [
        "df.corr()"
      ],
      "execution_count": null,
      "outputs": [
        {
          "output_type": "execute_result",
          "data": {
            "text/html": [
              "<div>\n",
              "<style scoped>\n",
              "    .dataframe tbody tr th:only-of-type {\n",
              "        vertical-align: middle;\n",
              "    }\n",
              "\n",
              "    .dataframe tbody tr th {\n",
              "        vertical-align: top;\n",
              "    }\n",
              "\n",
              "    .dataframe thead th {\n",
              "        text-align: right;\n",
              "    }\n",
              "</style>\n",
              "<table border=\"1\" class=\"dataframe\">\n",
              "  <thead>\n",
              "    <tr style=\"text-align: right;\">\n",
              "      <th></th>\n",
              "      <th>Tenure</th>\n",
              "      <th>Experience (YY.MM)</th>\n",
              "      <th>Age in YY.</th>\n",
              "      <th>Commuting Problems</th>\n",
              "      <th>Tools provided for the job</th>\n",
              "      <th>Job Security</th>\n",
              "      <th>Company Benefits</th>\n",
              "      <th>Career Development</th>\n",
              "    </tr>\n",
              "  </thead>\n",
              "  <tbody>\n",
              "    <tr>\n",
              "      <th>Tenure</th>\n",
              "      <td>1.000000</td>\n",
              "      <td>-0.040845</td>\n",
              "      <td>-0.071027</td>\n",
              "      <td>0.114193</td>\n",
              "      <td>0.017045</td>\n",
              "      <td>0.092539</td>\n",
              "      <td>0.022081</td>\n",
              "      <td>-0.064203</td>\n",
              "    </tr>\n",
              "    <tr>\n",
              "      <th>Experience (YY.MM)</th>\n",
              "      <td>-0.040845</td>\n",
              "      <td>1.000000</td>\n",
              "      <td>0.835793</td>\n",
              "      <td>-0.029064</td>\n",
              "      <td>0.081727</td>\n",
              "      <td>0.057827</td>\n",
              "      <td>0.155328</td>\n",
              "      <td>0.096030</td>\n",
              "    </tr>\n",
              "    <tr>\n",
              "      <th>Age in YY.</th>\n",
              "      <td>-0.071027</td>\n",
              "      <td>0.835793</td>\n",
              "      <td>1.000000</td>\n",
              "      <td>-0.034647</td>\n",
              "      <td>0.047183</td>\n",
              "      <td>0.035765</td>\n",
              "      <td>0.153134</td>\n",
              "      <td>0.080344</td>\n",
              "    </tr>\n",
              "    <tr>\n",
              "      <th>Commuting Problems</th>\n",
              "      <td>0.114193</td>\n",
              "      <td>-0.029064</td>\n",
              "      <td>-0.034647</td>\n",
              "      <td>1.000000</td>\n",
              "      <td>0.047447</td>\n",
              "      <td>-0.046799</td>\n",
              "      <td>-0.002507</td>\n",
              "      <td>0.066239</td>\n",
              "    </tr>\n",
              "    <tr>\n",
              "      <th>Tools provided for the job</th>\n",
              "      <td>0.017045</td>\n",
              "      <td>0.081727</td>\n",
              "      <td>0.047183</td>\n",
              "      <td>0.047447</td>\n",
              "      <td>1.000000</td>\n",
              "      <td>0.143556</td>\n",
              "      <td>0.133353</td>\n",
              "      <td>0.147305</td>\n",
              "    </tr>\n",
              "    <tr>\n",
              "      <th>Job Security</th>\n",
              "      <td>0.092539</td>\n",
              "      <td>0.057827</td>\n",
              "      <td>0.035765</td>\n",
              "      <td>-0.046799</td>\n",
              "      <td>0.143556</td>\n",
              "      <td>1.000000</td>\n",
              "      <td>0.217772</td>\n",
              "      <td>0.128059</td>\n",
              "    </tr>\n",
              "    <tr>\n",
              "      <th>Company Benefits</th>\n",
              "      <td>0.022081</td>\n",
              "      <td>0.155328</td>\n",
              "      <td>0.153134</td>\n",
              "      <td>-0.002507</td>\n",
              "      <td>0.133353</td>\n",
              "      <td>0.217772</td>\n",
              "      <td>1.000000</td>\n",
              "      <td>0.180091</td>\n",
              "    </tr>\n",
              "    <tr>\n",
              "      <th>Career Development</th>\n",
              "      <td>-0.064203</td>\n",
              "      <td>0.096030</td>\n",
              "      <td>0.080344</td>\n",
              "      <td>0.066239</td>\n",
              "      <td>0.147305</td>\n",
              "      <td>0.128059</td>\n",
              "      <td>0.180091</td>\n",
              "      <td>1.000000</td>\n",
              "    </tr>\n",
              "  </tbody>\n",
              "</table>\n",
              "</div>"
            ],
            "text/plain": [
              "                              Tenure  ...  Career Development\n",
              "Tenure                      1.000000  ...           -0.064203\n",
              "Experience (YY.MM)         -0.040845  ...            0.096030\n",
              "Age in YY.                 -0.071027  ...            0.080344\n",
              "Commuting Problems          0.114193  ...            0.066239\n",
              "Tools provided for the job  0.017045  ...            0.147305\n",
              "Job Security                0.092539  ...            0.128059\n",
              "Company Benefits            0.022081  ...            0.180091\n",
              "Career Development         -0.064203  ...            1.000000\n",
              "\n",
              "[8 rows x 8 columns]"
            ]
          },
          "metadata": {
            "tags": []
          },
          "execution_count": 47
        }
      ]
    },
    {
      "cell_type": "code",
      "metadata": {
        "id": "EUhfv6uV3Ien",
        "colab": {
          "base_uri": "https://localhost:8080/",
          "height": 403
        },
        "outputId": "299ab77e-9a98-4108-cb6e-bc03c011fc40"
      },
      "source": [
        "sns.heatmap(df.corr(), annot=True, fmt='.0%')"
      ],
      "execution_count": null,
      "outputs": [
        {
          "output_type": "execute_result",
          "data": {
            "text/plain": [
              "<matplotlib.axes._subplots.AxesSubplot at 0x7f945a1548d0>"
            ]
          },
          "metadata": {
            "tags": []
          },
          "execution_count": 48
        },
        {
          "output_type": "display_data",
          "data": {
            "image/png": "[encoded data removed]",
            "text/plain": [
              "<Figure size 432x288 with 2 Axes>"
            ]
          },
          "metadata": {
            "tags": [],
            "needs_background": "light"
          }
        }
      ]
    },
    {
      "cell_type": "code",
      "metadata": {
        "id": "aYa6YZSc32WB"
      },
      "source": [
        "#transform non-numerical into numerical\n",
        "from sklearn.preprocessing import LabelEncoder\n",
        "\n",
        "for column in df.columns:\n",
        "    if df[column].dtype == np.number:\n",
        "      continue\n",
        "    df[column] = LabelEncoder().fit_transform(df[column])"
      ],
      "execution_count": null,
      "outputs": []
    },
    {
      "cell_type": "code",
      "metadata": {
        "id": "nVkEFfEE4-PF"
      },
      "source": [
        "x = df.iloc[:, 1:df.shape[1]].values\n",
        "y = df.iloc[:,0].values"
      ],
      "execution_count": null,
      "outputs": []
    },
    {
      "cell_type": "code",
      "metadata": {
        "id": "QmLpi8B07B8Y"
      },
      "source": [
        "from sklearn.model_selection import train_test_split\n",
        "x_train, x_test, y_train, y_test = train_test_split(x, y, test_size = 0.25, random_state = 0)"
      ],
      "execution_count": null,
      "outputs": []
    },
    {
      "cell_type": "code",
      "metadata": {
        "id": "7kfIx6uK7pNK",
        "colab": {
          "base_uri": "https://localhost:8080/"
        },
        "outputId": "d19f5569-e293-43c6-c99b-dec36cc1ef64"
      },
      "source": [
        "# random forest\n",
        "from sklearn.ensemble import RandomForestClassifier\n",
        "forest = RandomForestClassifier(n_estimators = 10 , criterion = 'entropy', random_state = 0)\n",
        "forest.fit(x_train, y_train)"
      ],
      "execution_count": null,
      "outputs": [
        {
          "output_type": "execute_result",
          "data": {
            "text/plain": [
              "RandomForestClassifier(bootstrap=True, ccp_alpha=0.0, class_weight=None,\n",
              "                       criterion='entropy', max_depth=None, max_features='auto',\n",
              "                       max_leaf_nodes=None, max_samples=None,\n",
              "                       min_impurity_decrease=0.0, min_impurity_split=None,\n",
              "                       min_samples_leaf=1, min_samples_split=2,\n",
              "                       min_weight_fraction_leaf=0.0, n_estimators=10,\n",
              "                       n_jobs=None, oob_score=False, random_state=0, verbose=0,\n",
              "                       warm_start=False)"
            ]
          },
          "metadata": {
            "tags": []
          },
          "execution_count": 54
        }
      ]
    },
    {
      "cell_type": "code",
      "metadata": {
        "id": "S-wGY5nA8n4f",
        "colab": {
          "base_uri": "https://localhost:8080/"
        },
        "outputId": "3dfa8200-c878-42e6-a4c8-69eb77f18d05"
      },
      "source": [
        "forest.score(x_train, y_train)"
      ],
      "execution_count": null,
      "outputs": [
        {
          "output_type": "execute_result",
          "data": {
            "text/plain": [
              "0.9955621301775148"
            ]
          },
          "metadata": {
            "tags": []
          },
          "execution_count": 56
        }
      ]
    },
    {
      "cell_type": "code",
      "metadata": {
        "id": "gozQjmuN83PI",
        "colab": {
          "base_uri": "https://localhost:8080/"
        },
        "outputId": "7d71e38c-5eb8-4fe2-9e5d-d47f2c30408d"
      },
      "source": [
        "from sklearn.metrics import confusion_matrix\n",
        "\n",
        "cm = confusion_matrix(y_test, forest.predict(x_test))\n",
        "\n",
        "TN = cm[0][0]\n",
        "TP = cm[1][1]\n",
        "FN = cm[1][0]\n",
        "FP = cm[0][1]\n",
        "\n",
        "print(cm)\n",
        "print('Model Accuracy = {}'.format((TN+TP) / (TP+TN+FN+FP)))"
      ],
      "execution_count": null,
      "outputs": [
        {
          "output_type": "stream",
          "text": [
            "[[ 60  18]\n",
            " [  9 139]]\n",
            "Model Accuracy = 0.8805309734513275\n"
          ],
          "name": "stdout"
        }
      ]
    }
  ]
}