{
  "nbformat": 4,
  "nbformat_minor": 0,
  "metadata": {
    "colab": {
      "name": "ANN_job role_match_poor.ipynb",
      "provenance": [],
      "authorship_tag": "ABX9TyMSUcVU9JgFNPbNis2oW9yP",
      "include_colab_link": true
    },
    "kernelspec": {
      "name": "python3",
      "display_name": "Python 3"
    }
  },
  "cells": [
    {
      "cell_type": "markdown",
      "metadata": {
        "id": "view-in-github",
        "colab_type": "text"
      },
      "source": [
        "<a href=\"https://colab.research.google.com/github/udghosh/Employee_Attrition/blob/main/ANN_job_role_match_poor.ipynb\" target=\"_parent\"><img src=\"https://colab.research.google.com/assets/colab-badge.svg\" alt=\"Open In Colab\"/></a>"
      ]
    },
    {
      "cell_type": "code",
      "metadata": {
        "id": "7y6gqQ5XkyL1"
      },
      "source": [
        "import pandas as pd\n",
        "import numpy as np\n",
        "import seaborn as sns\n",
        "import matplotlib.pyplot as plt\n",
        "import sys\n",
        "\n",
        "\n",
        "from sklearn.model_selection import train_test_split\n",
        "from sklearn.metrics import confusion_matrix\n",
        "from sklearn import datasets\n",
        "from sklearn.metrics import accuracy_score\n",
        "\n",
        "import keras\n",
        "from keras.models import Sequential\n",
        "from keras.layers import Dense\n",
        "from keras.optimizers import Adam\n",
        "import pydot\n",
        "import graphviz\n",
        "from IPython.display import SVG \n",
        "from keras.utils.vis_utils import model_to_dot\n",
        "from keras.utils import plot_model\n"
      ],
      "execution_count": null,
      "outputs": []
    },
    {
      "cell_type": "code",
      "metadata": {
        "id": "BTEXpGHXk29M",
        "colab": {
          "resources": {
            "http://localhost:8080/nbextensions/google.colab/files.js": {
              "data": "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",
              "ok": true,
              "headers": [
                [
                  "content-type",
                  "application/javascript"
                ]
              ],
              "status": 200,
              "status_text": ""
            }
          },
          "base_uri": "https://localhost:8080/",
          "height": 73
        },
        "outputId": "f3528d0b-f626-42ce-cd79-f51751f633fc"
      },
      "source": [
        "from google.colab import files\n",
        "uploaded = files.upload()"
      ],
      "execution_count": null,
      "outputs": [
        {
          "output_type": "display_data",
          "data": {
            "text/html": [
              "\n",
              "     <input type=\"file\" id=\"files-98a8bdba-1e26-46af-bdff-ecdb85ac6958\" name=\"files[]\" multiple disabled\n",
              "        style=\"border:none\" />\n",
              "     <output id=\"result-98a8bdba-1e26-46af-bdff-ecdb85ac6958\">\n",
              "      Upload widget is only available when the cell has been executed in the\n",
              "      current browser session. Please rerun this cell to enable.\n",
              "      </output>\n",
              "      <script src=\"/nbextensions/google.colab/files.js\"></script> "
            ],
            "text/plain": [
              "<IPython.core.display.HTML object>"
            ]
          },
          "metadata": {
            "tags": []
          }
        },
        {
          "output_type": "stream",
          "text": [
            "Saving job_role_Final(test)clust.csv to job_role_Final(test)clust (1).csv\n"
          ],
          "name": "stdout"
        }
      ]
    },
    {
      "cell_type": "code",
      "metadata": {
        "id": "QGegXrgBlFnx",
        "colab": {
          "base_uri": "https://localhost:8080/",
          "height": 298
        },
        "outputId": "7cf381bf-d2ef-47b0-f107-bfdd6c77d7a0"
      },
      "source": [
        "df = pd.read_csv('job_role_Final(test)clust (1).csv', encoding= 'unicode_escape')\n",
        "df.head()"
      ],
      "execution_count": null,
      "outputs": [
        {
          "output_type": "execute_result",
          "data": {
            "text/html": [
              "<div>\n",
              "<style scoped>\n",
              "    .dataframe tbody tr th:only-of-type {\n",
              "        vertical-align: middle;\n",
              "    }\n",
              "\n",
              "    .dataframe tbody tr th {\n",
              "        vertical-align: top;\n",
              "    }\n",
              "\n",
              "    .dataframe thead th {\n",
              "        text-align: right;\n",
              "    }\n",
              "</style>\n",
              "<table border=\"1\" class=\"dataframe\">\n",
              "  <thead>\n",
              "    <tr style=\"text-align: right;\">\n",
              "      <th></th>\n",
              "      <th>Job_Roles</th>\n",
              "      <th>Skills_1</th>\n",
              "      <th>Skills_2</th>\n",
              "      <th>Skills_3</th>\n",
              "      <th>Skills_4</th>\n",
              "      <th>Skills_5</th>\n",
              "      <th>Skills_6</th>\n",
              "      <th>Skills_7</th>\n",
              "      <th>Skills_8</th>\n",
              "      <th>Skills_9</th>\n",
              "      <th>Skills_10</th>\n",
              "      <th>Skills_11</th>\n",
              "      <th>Skills_12</th>\n",
              "      <th>Skills_13</th>\n",
              "      <th>Skills_14</th>\n",
              "      <th>Skills_15</th>\n",
              "      <th>Skills_16</th>\n",
              "      <th>Skills_17</th>\n",
              "      <th>Skills_18</th>\n",
              "      <th>Skills_19</th>\n",
              "      <th>Skills_20</th>\n",
              "      <th>Skills_21</th>\n",
              "      <th>Skills_22</th>\n",
              "      <th>Skills_23</th>\n",
              "    </tr>\n",
              "  </thead>\n",
              "  <tbody>\n",
              "    <tr>\n",
              "      <th>0</th>\n",
              "      <td>.NET DEVELOPER</td>\n",
              "      <td>.Net</td>\n",
              "      <td>java</td>\n",
              "      <td>c++</td>\n",
              "      <td>NaN</td>\n",
              "      <td>NaN</td>\n",
              "      <td>NaN</td>\n",
              "      <td>NaN</td>\n",
              "      <td>NaN</td>\n",
              "      <td>NaN</td>\n",
              "      <td>NaN</td>\n",
              "      <td>NaN</td>\n",
              "      <td>NaN</td>\n",
              "      <td>NaN</td>\n",
              "      <td>NaN</td>\n",
              "      <td>NaN</td>\n",
              "      <td>NaN</td>\n",
              "      <td>NaN</td>\n",
              "      <td>NaN</td>\n",
              "      <td>NaN</td>\n",
              "      <td>NaN</td>\n",
              "      <td>NaN</td>\n",
              "      <td>NaN</td>\n",
              "      <td>NaN</td>\n",
              "    </tr>\n",
              "    <tr>\n",
              "      <th>1</th>\n",
              "      <td>.NET DEVELOPER</td>\n",
              "      <td>.Net</td>\n",
              "      <td>C++</td>\n",
              "      <td>DATABASE</td>\n",
              "      <td>HTML</td>\n",
              "      <td>HTML</td>\n",
              "      <td>NaN</td>\n",
              "      <td>NaN</td>\n",
              "      <td>NaN</td>\n",
              "      <td>NaN</td>\n",
              "      <td>NaN</td>\n",
              "      <td>NaN</td>\n",
              "      <td>NaN</td>\n",
              "      <td>NaN</td>\n",
              "      <td>NaN</td>\n",
              "      <td>NaN</td>\n",
              "      <td>NaN</td>\n",
              "      <td>NaN</td>\n",
              "      <td>NaN</td>\n",
              "      <td>NaN</td>\n",
              "      <td>NaN</td>\n",
              "      <td>NaN</td>\n",
              "      <td>NaN</td>\n",
              "      <td>NaN</td>\n",
              "    </tr>\n",
              "    <tr>\n",
              "      <th>2</th>\n",
              "      <td>.NET DEVELOPER</td>\n",
              "      <td>VISUAL</td>\n",
              "      <td>C#</td>\n",
              "      <td>C++</td>\n",
              "      <td>NaN</td>\n",
              "      <td>NaN</td>\n",
              "      <td>NaN</td>\n",
              "      <td>NaN</td>\n",
              "      <td>NaN</td>\n",
              "      <td>NaN</td>\n",
              "      <td>NaN</td>\n",
              "      <td>NaN</td>\n",
              "      <td>NaN</td>\n",
              "      <td>NaN</td>\n",
              "      <td>NaN</td>\n",
              "      <td>NaN</td>\n",
              "      <td>NaN</td>\n",
              "      <td>NaN</td>\n",
              "      <td>NaN</td>\n",
              "      <td>NaN</td>\n",
              "      <td>NaN</td>\n",
              "      <td>NaN</td>\n",
              "      <td>NaN</td>\n",
              "      <td>NaN</td>\n",
              "    </tr>\n",
              "    <tr>\n",
              "      <th>3</th>\n",
              "      <td>.NET DEVELOPER</td>\n",
              "      <td>C#</td>\n",
              "      <td>C++</td>\n",
              "      <td>JAVASCRIPT</td>\n",
              "      <td>JAVA</td>\n",
              "      <td>NaN</td>\n",
              "      <td>NaN</td>\n",
              "      <td>NaN</td>\n",
              "      <td>NaN</td>\n",
              "      <td>NaN</td>\n",
              "      <td>NaN</td>\n",
              "      <td>NaN</td>\n",
              "      <td>NaN</td>\n",
              "      <td>NaN</td>\n",
              "      <td>NaN</td>\n",
              "      <td>NaN</td>\n",
              "      <td>NaN</td>\n",
              "      <td>NaN</td>\n",
              "      <td>NaN</td>\n",
              "      <td>NaN</td>\n",
              "      <td>NaN</td>\n",
              "      <td>NaN</td>\n",
              "      <td>NaN</td>\n",
              "      <td>NaN</td>\n",
              "    </tr>\n",
              "    <tr>\n",
              "      <th>4</th>\n",
              "      <td>.NET DEVELOPER</td>\n",
              "      <td>ECLIPSE</td>\n",
              "      <td>JAVA</td>\n",
              "      <td>jQuery</td>\n",
              "      <td>C#</td>\n",
              "      <td>C++</td>\n",
              "      <td>NaN</td>\n",
              "      <td>NaN</td>\n",
              "      <td>NaN</td>\n",
              "      <td>NaN</td>\n",
              "      <td>NaN</td>\n",
              "      <td>NaN</td>\n",
              "      <td>NaN</td>\n",
              "      <td>NaN</td>\n",
              "      <td>NaN</td>\n",
              "      <td>NaN</td>\n",
              "      <td>NaN</td>\n",
              "      <td>NaN</td>\n",
              "      <td>NaN</td>\n",
              "      <td>NaN</td>\n",
              "      <td>NaN</td>\n",
              "      <td>NaN</td>\n",
              "      <td>NaN</td>\n",
              "      <td>NaN</td>\n",
              "    </tr>\n",
              "  </tbody>\n",
              "</table>\n",
              "</div>"
            ],
            "text/plain": [
              "        Job_Roles Skills_1 Skills_2  ... Skills_21 Skills_22 Skills_23\n",
              "0  .NET DEVELOPER     .Net     java  ...       NaN       NaN       NaN\n",
              "1  .NET DEVELOPER     .Net      C++  ...       NaN       NaN       NaN\n",
              "2  .NET DEVELOPER   VISUAL       C#  ...       NaN       NaN       NaN\n",
              "3  .NET DEVELOPER       C#      C++  ...       NaN       NaN       NaN\n",
              "4  .NET DEVELOPER  ECLIPSE     JAVA  ...       NaN       NaN       NaN\n",
              "\n",
              "[5 rows x 24 columns]"
            ]
          },
          "metadata": {
            "tags": []
          },
          "execution_count": 154
        }
      ]
    },
    {
      "cell_type": "code",
      "metadata": {
        "id": "wBaWE637pJnB",
        "colab": {
          "base_uri": "https://localhost:8080/"
        },
        "outputId": "b813ca4c-798d-4f9b-bd08-316f0fd50eba"
      },
      "source": [
        "df.isna().sum()"
      ],
      "execution_count": null,
      "outputs": [
        {
          "output_type": "execute_result",
          "data": {
            "text/plain": [
              "Job_Roles       0\n",
              "Skills_1       50\n",
              "Skills_2        1\n",
              "Skills_3        8\n",
              "Skills_4      107\n",
              "Skills_5      351\n",
              "Skills_6     1282\n",
              "Skills_7     1810\n",
              "Skills_8     2139\n",
              "Skills_9     2379\n",
              "Skills_10    2625\n",
              "Skills_11    2803\n",
              "Skills_12    2931\n",
              "Skills_13    3013\n",
              "Skills_14    3092\n",
              "Skills_15    3154\n",
              "Skills_16    3216\n",
              "Skills_17    3247\n",
              "Skills_18    3274\n",
              "Skills_19    3306\n",
              "Skills_20    3321\n",
              "Skills_21    3327\n",
              "Skills_22    3334\n",
              "Skills_23    3334\n",
              "dtype: int64"
            ]
          },
          "metadata": {
            "tags": []
          },
          "execution_count": 155
        }
      ]
    },
    {
      "cell_type": "code",
      "metadata": {
        "id": "hYILeGowuPsp"
      },
      "source": [
        "df = df.drop(['Skills_6',\t'Skills_7',\t'Skills_8','Skills_8',\t'Skills_9',\t'Skills_10',\t'Skills_11',\t'Skills_12','Skills_13',\t'Skills_14',\t'Skills_15',\t'Skills_16',\t'Skills_17',\t'Skills_18',\t'Skills_19',\t'Skills_20',\t'Skills_21',\t'Skills_22',\t'Skills_23'],axis=1)"
      ],
      "execution_count": null,
      "outputs": []
    },
    {
      "cell_type": "code",
      "metadata": {
        "colab": {
          "base_uri": "https://localhost:8080/",
          "height": 194
        },
        "id": "4Fj6WJO74CI3",
        "outputId": "666ab8c5-e969-41b2-c5b4-9da374b5df73"
      },
      "source": [
        "df.head()"
      ],
      "execution_count": null,
      "outputs": [
        {
          "output_type": "execute_result",
          "data": {
            "text/html": [
              "<div>\n",
              "<style scoped>\n",
              "    .dataframe tbody tr th:only-of-type {\n",
              "        vertical-align: middle;\n",
              "    }\n",
              "\n",
              "    .dataframe tbody tr th {\n",
              "        vertical-align: top;\n",
              "    }\n",
              "\n",
              "    .dataframe thead th {\n",
              "        text-align: right;\n",
              "    }\n",
              "</style>\n",
              "<table border=\"1\" class=\"dataframe\">\n",
              "  <thead>\n",
              "    <tr style=\"text-align: right;\">\n",
              "      <th></th>\n",
              "      <th>Job_Roles</th>\n",
              "      <th>Skills_1</th>\n",
              "      <th>Skills_2</th>\n",
              "      <th>Skills_3</th>\n",
              "      <th>Skills_4</th>\n",
              "      <th>Skills_5</th>\n",
              "    </tr>\n",
              "  </thead>\n",
              "  <tbody>\n",
              "    <tr>\n",
              "      <th>0</th>\n",
              "      <td>.NET DEVELOPER</td>\n",
              "      <td>.Net</td>\n",
              "      <td>java</td>\n",
              "      <td>c++</td>\n",
              "      <td>NaN</td>\n",
              "      <td>NaN</td>\n",
              "    </tr>\n",
              "    <tr>\n",
              "      <th>1</th>\n",
              "      <td>.NET DEVELOPER</td>\n",
              "      <td>.Net</td>\n",
              "      <td>C++</td>\n",
              "      <td>DATABASE</td>\n",
              "      <td>HTML</td>\n",
              "      <td>HTML</td>\n",
              "    </tr>\n",
              "    <tr>\n",
              "      <th>2</th>\n",
              "      <td>.NET DEVELOPER</td>\n",
              "      <td>VISUAL</td>\n",
              "      <td>C#</td>\n",
              "      <td>C++</td>\n",
              "      <td>NaN</td>\n",
              "      <td>NaN</td>\n",
              "    </tr>\n",
              "    <tr>\n",
              "      <th>3</th>\n",
              "      <td>.NET DEVELOPER</td>\n",
              "      <td>C#</td>\n",
              "      <td>C++</td>\n",
              "      <td>JAVASCRIPT</td>\n",
              "      <td>JAVA</td>\n",
              "      <td>NaN</td>\n",
              "    </tr>\n",
              "    <tr>\n",
              "      <th>4</th>\n",
              "      <td>.NET DEVELOPER</td>\n",
              "      <td>ECLIPSE</td>\n",
              "      <td>JAVA</td>\n",
              "      <td>jQuery</td>\n",
              "      <td>C#</td>\n",
              "      <td>C++</td>\n",
              "    </tr>\n",
              "  </tbody>\n",
              "</table>\n",
              "</div>"
            ],
            "text/plain": [
              "        Job_Roles Skills_1 Skills_2    Skills_3 Skills_4 Skills_5\n",
              "0  .NET DEVELOPER     .Net     java         c++      NaN      NaN\n",
              "1  .NET DEVELOPER     .Net      C++    DATABASE     HTML     HTML\n",
              "2  .NET DEVELOPER   VISUAL       C#         C++      NaN      NaN\n",
              "3  .NET DEVELOPER       C#      C++  JAVASCRIPT     JAVA      NaN\n",
              "4  .NET DEVELOPER  ECLIPSE     JAVA      jQuery       C#      C++"
            ]
          },
          "metadata": {
            "tags": []
          },
          "execution_count": 157
        }
      ]
    },
    {
      "cell_type": "code",
      "metadata": {
        "id": "ZAtsd4ujmWVh",
        "colab": {
          "base_uri": "https://localhost:8080/",
          "height": 399
        },
        "outputId": "5c2c3d8a-3119-4ea5-c3c3-ce50bc4b5f17"
      },
      "source": [
        "df.apply(lambda x: x.astype(str).str.upper())\n"
      ],
      "execution_count": null,
      "outputs": [
        {
          "output_type": "execute_result",
          "data": {
            "text/html": [
              "<div>\n",
              "<style scoped>\n",
              "    .dataframe tbody tr th:only-of-type {\n",
              "        vertical-align: middle;\n",
              "    }\n",
              "\n",
              "    .dataframe tbody tr th {\n",
              "        vertical-align: top;\n",
              "    }\n",
              "\n",
              "    .dataframe thead th {\n",
              "        text-align: right;\n",
              "    }\n",
              "</style>\n",
              "<table border=\"1\" class=\"dataframe\">\n",
              "  <thead>\n",
              "    <tr style=\"text-align: right;\">\n",
              "      <th></th>\n",
              "      <th>Job_Roles</th>\n",
              "      <th>Skills_1</th>\n",
              "      <th>Skills_2</th>\n",
              "      <th>Skills_3</th>\n",
              "      <th>Skills_4</th>\n",
              "      <th>Skills_5</th>\n",
              "    </tr>\n",
              "  </thead>\n",
              "  <tbody>\n",
              "    <tr>\n",
              "      <th>0</th>\n",
              "      <td>.NET DEVELOPER</td>\n",
              "      <td>.NET</td>\n",
              "      <td>JAVA</td>\n",
              "      <td>C++</td>\n",
              "      <td>NAN</td>\n",
              "      <td>NAN</td>\n",
              "    </tr>\n",
              "    <tr>\n",
              "      <th>1</th>\n",
              "      <td>.NET DEVELOPER</td>\n",
              "      <td>.NET</td>\n",
              "      <td>C++</td>\n",
              "      <td>DATABASE</td>\n",
              "      <td>HTML</td>\n",
              "      <td>HTML</td>\n",
              "    </tr>\n",
              "    <tr>\n",
              "      <th>2</th>\n",
              "      <td>.NET DEVELOPER</td>\n",
              "      <td>VISUAL</td>\n",
              "      <td>C#</td>\n",
              "      <td>C++</td>\n",
              "      <td>NAN</td>\n",
              "      <td>NAN</td>\n",
              "    </tr>\n",
              "    <tr>\n",
              "      <th>3</th>\n",
              "      <td>.NET DEVELOPER</td>\n",
              "      <td>C#</td>\n",
              "      <td>C++</td>\n",
              "      <td>JAVASCRIPT</td>\n",
              "      <td>JAVA</td>\n",
              "      <td>NAN</td>\n",
              "    </tr>\n",
              "    <tr>\n",
              "      <th>4</th>\n",
              "      <td>.NET DEVELOPER</td>\n",
              "      <td>ECLIPSE</td>\n",
              "      <td>JAVA</td>\n",
              "      <td>JQUERY</td>\n",
              "      <td>C#</td>\n",
              "      <td>C++</td>\n",
              "    </tr>\n",
              "    <tr>\n",
              "      <th>...</th>\n",
              "      <td>...</td>\n",
              "      <td>...</td>\n",
              "      <td>...</td>\n",
              "      <td>...</td>\n",
              "      <td>...</td>\n",
              "      <td>...</td>\n",
              "    </tr>\n",
              "    <tr>\n",
              "      <th>3332</th>\n",
              "      <td>WEB DEVELOPER</td>\n",
              "      <td>C++</td>\n",
              "      <td>DJANGO</td>\n",
              "      <td>HTML</td>\n",
              "      <td>JAVASCRIPT</td>\n",
              "      <td>PYTHON</td>\n",
              "    </tr>\n",
              "    <tr>\n",
              "      <th>3333</th>\n",
              "      <td>WEB DEVELOPER</td>\n",
              "      <td>C++</td>\n",
              "      <td>HTML</td>\n",
              "      <td>JAVASCRIPT</td>\n",
              "      <td>JSON</td>\n",
              "      <td>PHP</td>\n",
              "    </tr>\n",
              "    <tr>\n",
              "      <th>3334</th>\n",
              "      <td>WEB DEVELOPER</td>\n",
              "      <td>CSS</td>\n",
              "      <td>HTML</td>\n",
              "      <td>LINUX</td>\n",
              "      <td>VISUAL</td>\n",
              "      <td>ANGULAR</td>\n",
              "    </tr>\n",
              "    <tr>\n",
              "      <th>3335</th>\n",
              "      <td>WEB DEVELOPER</td>\n",
              "      <td>HTML</td>\n",
              "      <td>CSS</td>\n",
              "      <td>PHP</td>\n",
              "      <td>JAVASCRIPT</td>\n",
              "      <td>NAN</td>\n",
              "    </tr>\n",
              "    <tr>\n",
              "      <th>3336</th>\n",
              "      <td>WEB DEVELOPER</td>\n",
              "      <td>JAVASCRIPT</td>\n",
              "      <td>HTML</td>\n",
              "      <td>XML</td>\n",
              "      <td>JIIRA</td>\n",
              "      <td>LINUX</td>\n",
              "    </tr>\n",
              "  </tbody>\n",
              "</table>\n",
              "<p>3337 rows × 6 columns</p>\n",
              "</div>"
            ],
            "text/plain": [
              "           Job_Roles    Skills_1 Skills_2    Skills_3    Skills_4 Skills_5\n",
              "0     .NET DEVELOPER        .NET     JAVA         C++         NAN      NAN\n",
              "1     .NET DEVELOPER        .NET      C++    DATABASE        HTML     HTML\n",
              "2     .NET DEVELOPER      VISUAL       C#         C++         NAN      NAN\n",
              "3     .NET DEVELOPER          C#      C++  JAVASCRIPT        JAVA      NAN\n",
              "4     .NET DEVELOPER     ECLIPSE     JAVA      JQUERY          C#      C++\n",
              "...              ...         ...      ...         ...         ...      ...\n",
              "3332   WEB DEVELOPER         C++   DJANGO        HTML  JAVASCRIPT   PYTHON\n",
              "3333   WEB DEVELOPER         C++     HTML  JAVASCRIPT        JSON      PHP\n",
              "3334   WEB DEVELOPER         CSS     HTML       LINUX      VISUAL  ANGULAR\n",
              "3335   WEB DEVELOPER        HTML      CSS         PHP  JAVASCRIPT      NAN\n",
              "3336   WEB DEVELOPER  JAVASCRIPT     HTML         XML       JIIRA    LINUX\n",
              "\n",
              "[3337 rows x 6 columns]"
            ]
          },
          "metadata": {
            "tags": []
          },
          "execution_count": 158
        }
      ]
    },
    {
      "cell_type": "code",
      "metadata": {
        "id": "6cbY-HgS4Njv"
      },
      "source": [
        "df.dropna(subset = [\"Skills_1\",\"Skills_2\",\"Skills_3\",\"Skills_4\",\"Skills_5\"], inplace=True)"
      ],
      "execution_count": null,
      "outputs": []
    },
    {
      "cell_type": "code",
      "metadata": {
        "colab": {
          "base_uri": "https://localhost:8080/"
        },
        "id": "NahSlGYk4mL0",
        "outputId": "f247416f-49ab-494e-edf6-4cccbd4f191b"
      },
      "source": [
        "df.isna().sum()"
      ],
      "execution_count": null,
      "outputs": [
        {
          "output_type": "execute_result",
          "data": {
            "text/plain": [
              "Job_Roles    0\n",
              "Skills_1     0\n",
              "Skills_2     0\n",
              "Skills_3     0\n",
              "Skills_4     0\n",
              "Skills_5     0\n",
              "dtype: int64"
            ]
          },
          "metadata": {
            "tags": []
          },
          "execution_count": 160
        }
      ]
    },
    {
      "cell_type": "code",
      "metadata": {
        "colab": {
          "base_uri": "https://localhost:8080/",
          "height": 194
        },
        "id": "MhNxmkPN4eLn",
        "outputId": "88e96def-28b7-48a6-a6c4-8524a0781b56"
      },
      "source": [
        "df.head()"
      ],
      "execution_count": null,
      "outputs": [
        {
          "output_type": "execute_result",
          "data": {
            "text/html": [
              "<div>\n",
              "<style scoped>\n",
              "    .dataframe tbody tr th:only-of-type {\n",
              "        vertical-align: middle;\n",
              "    }\n",
              "\n",
              "    .dataframe tbody tr th {\n",
              "        vertical-align: top;\n",
              "    }\n",
              "\n",
              "    .dataframe thead th {\n",
              "        text-align: right;\n",
              "    }\n",
              "</style>\n",
              "<table border=\"1\" class=\"dataframe\">\n",
              "  <thead>\n",
              "    <tr style=\"text-align: right;\">\n",
              "      <th></th>\n",
              "      <th>Job_Roles</th>\n",
              "      <th>Skills_1</th>\n",
              "      <th>Skills_2</th>\n",
              "      <th>Skills_3</th>\n",
              "      <th>Skills_4</th>\n",
              "      <th>Skills_5</th>\n",
              "    </tr>\n",
              "  </thead>\n",
              "  <tbody>\n",
              "    <tr>\n",
              "      <th>1</th>\n",
              "      <td>.NET DEVELOPER</td>\n",
              "      <td>.Net</td>\n",
              "      <td>C++</td>\n",
              "      <td>DATABASE</td>\n",
              "      <td>HTML</td>\n",
              "      <td>HTML</td>\n",
              "    </tr>\n",
              "    <tr>\n",
              "      <th>4</th>\n",
              "      <td>.NET DEVELOPER</td>\n",
              "      <td>ECLIPSE</td>\n",
              "      <td>JAVA</td>\n",
              "      <td>jQuery</td>\n",
              "      <td>C#</td>\n",
              "      <td>C++</td>\n",
              "    </tr>\n",
              "    <tr>\n",
              "      <th>5</th>\n",
              "      <td>.NET DEVELOPER</td>\n",
              "      <td>WEB</td>\n",
              "      <td>Development</td>\n",
              "      <td>C</td>\n",
              "      <td>C++</td>\n",
              "      <td>Java</td>\n",
              "    </tr>\n",
              "    <tr>\n",
              "      <th>7</th>\n",
              "      <td>.NET DEVELOPER</td>\n",
              "      <td>Java</td>\n",
              "      <td>js</td>\n",
              "      <td>.NET</td>\n",
              "      <td>Oracle</td>\n",
              "      <td>Mysql</td>\n",
              "    </tr>\n",
              "    <tr>\n",
              "      <th>8</th>\n",
              "      <td>.NET DEVELOPER</td>\n",
              "      <td>ECLIPSE</td>\n",
              "      <td>JAVA</td>\n",
              "      <td>C#</td>\n",
              "      <td>C++</td>\n",
              "      <td>DATABASE</td>\n",
              "    </tr>\n",
              "  </tbody>\n",
              "</table>\n",
              "</div>"
            ],
            "text/plain": [
              "        Job_Roles Skills_1     Skills_2  Skills_3 Skills_4  Skills_5\n",
              "1  .NET DEVELOPER     .Net          C++  DATABASE     HTML      HTML\n",
              "4  .NET DEVELOPER  ECLIPSE         JAVA    jQuery       C#       C++\n",
              "5  .NET DEVELOPER      WEB  Development         C      C++      Java\n",
              "7  .NET DEVELOPER     Java           js      .NET   Oracle     Mysql\n",
              "8  .NET DEVELOPER  ECLIPSE         JAVA        C#      C++  DATABASE"
            ]
          },
          "metadata": {
            "tags": []
          },
          "execution_count": 161
        }
      ]
    },
    {
      "cell_type": "code",
      "metadata": {
        "colab": {
          "base_uri": "https://localhost:8080/"
        },
        "id": "EJ1doD_O5p0W",
        "outputId": "15dd9892-ac2e-4736-c349-6484eaa4739c"
      },
      "source": [
        "df.shape[0]\n"
      ],
      "execution_count": null,
      "outputs": [
        {
          "output_type": "execute_result",
          "data": {
            "text/plain": [
              "2938"
            ]
          },
          "metadata": {
            "tags": []
          },
          "execution_count": 162
        }
      ]
    },
    {
      "cell_type": "code",
      "metadata": {
        "colab": {
          "base_uri": "https://localhost:8080/"
        },
        "id": "YUzfZJwD7iKm",
        "outputId": "86fd160c-6f4e-4e01-fbbe-0c7a4f4200c5"
      },
      "source": [
        " df.Job_Roles.nunique()"
      ],
      "execution_count": null,
      "outputs": [
        {
          "output_type": "execute_result",
          "data": {
            "text/plain": [
              "19"
            ]
          },
          "metadata": {
            "tags": []
          },
          "execution_count": 163
        }
      ]
    },
    {
      "cell_type": "code",
      "metadata": {
        "colab": {
          "base_uri": "https://localhost:8080/"
        },
        "id": "1Qa9aiT18gB0",
        "outputId": "87ef6960-bdcc-4b6a-db86-31a9fa377361"
      },
      "source": [
        "df['Job_Roles'].unique().tolist()"
      ],
      "execution_count": null,
      "outputs": [
        {
          "output_type": "execute_result",
          "data": {
            "text/plain": [
              "['.NET DEVELOPER',\n",
              " 'ANDROID DEVELOPER',\n",
              " 'BACKEND DEVELOPER',\n",
              " 'CLOUD DEVELOPER',\n",
              " 'COMMUNICATION ENGINEER',\n",
              " 'DATA ANALYST',\n",
              " 'DATABASE DESIGNER',\n",
              " 'DEVELOPER',\n",
              " 'FRONTEND DEVELOPER',\n",
              " 'FULLSTACK DEVELOPER',\n",
              " 'IOS DEVELOPER',\n",
              " 'IOT DEVELOPER',\n",
              " 'JAVA DEVELOPER',\n",
              " 'ML DEVELOPER',\n",
              " 'PHP DEVELOPER',\n",
              " 'PYTHON DEVELOPER',\n",
              " 'SOFTWARE DEVELOPER',\n",
              " 'UI DEVELOPER',\n",
              " 'WEB DEVELOPER']"
            ]
          },
          "metadata": {
            "tags": []
          },
          "execution_count": 164
        }
      ]
    },
    {
      "cell_type": "code",
      "metadata": {
        "id": "HLa9MBHDmuIm"
      },
      "source": [
        "#df = df.replace(to_replace = np.nan, value ='0') \n",
        "#df"
      ],
      "execution_count": null,
      "outputs": []
    },
    {
      "cell_type": "code",
      "metadata": {
        "id": "CvFrKLzNmjjB"
      },
      "source": [
        "#transform non-numerical into numerical\n",
        "from sklearn.preprocessing import LabelEncoder\n",
        "\n",
        "for column in df.columns:\n",
        "    if df[column].dtype == np.float:\n",
        "      continue\n",
        "    df[column] = LabelEncoder().fit_transform(df[column])"
      ],
      "execution_count": null,
      "outputs": []
    },
    {
      "cell_type": "code",
      "metadata": {
        "id": "uf9Y_vEKnnzr",
        "colab": {
          "base_uri": "https://localhost:8080/",
          "height": 399
        },
        "outputId": "af5637fe-6727-4efa-ee56-38a2af72727c"
      },
      "source": [
        "df"
      ],
      "execution_count": null,
      "outputs": [
        {
          "output_type": "execute_result",
          "data": {
            "text/html": [
              "<div>\n",
              "<style scoped>\n",
              "    .dataframe tbody tr th:only-of-type {\n",
              "        vertical-align: middle;\n",
              "    }\n",
              "\n",
              "    .dataframe tbody tr th {\n",
              "        vertical-align: top;\n",
              "    }\n",
              "\n",
              "    .dataframe thead th {\n",
              "        text-align: right;\n",
              "    }\n",
              "</style>\n",
              "<table border=\"1\" class=\"dataframe\">\n",
              "  <thead>\n",
              "    <tr style=\"text-align: right;\">\n",
              "      <th></th>\n",
              "      <th>Job_Roles</th>\n",
              "      <th>Skills_1</th>\n",
              "      <th>Skills_2</th>\n",
              "      <th>Skills_3</th>\n",
              "      <th>Skills_4</th>\n",
              "      <th>Skills_5</th>\n",
              "    </tr>\n",
              "  </thead>\n",
              "  <tbody>\n",
              "    <tr>\n",
              "      <th>1</th>\n",
              "      <td>0</td>\n",
              "      <td>0</td>\n",
              "      <td>49</td>\n",
              "      <td>84</td>\n",
              "      <td>133</td>\n",
              "      <td>142</td>\n",
              "    </tr>\n",
              "    <tr>\n",
              "      <th>4</th>\n",
              "      <td>0</td>\n",
              "      <td>114</td>\n",
              "      <td>150</td>\n",
              "      <td>390</td>\n",
              "      <td>55</td>\n",
              "      <td>56</td>\n",
              "    </tr>\n",
              "    <tr>\n",
              "      <th>5</th>\n",
              "      <td>0</td>\n",
              "      <td>274</td>\n",
              "      <td>109</td>\n",
              "      <td>48</td>\n",
              "      <td>56</td>\n",
              "      <td>174</td>\n",
              "    </tr>\n",
              "    <tr>\n",
              "      <th>7</th>\n",
              "      <td>0</td>\n",
              "      <td>153</td>\n",
              "      <td>349</td>\n",
              "      <td>1</td>\n",
              "      <td>250</td>\n",
              "      <td>234</td>\n",
              "    </tr>\n",
              "    <tr>\n",
              "      <th>8</th>\n",
              "      <td>0</td>\n",
              "      <td>114</td>\n",
              "      <td>150</td>\n",
              "      <td>49</td>\n",
              "      <td>56</td>\n",
              "      <td>85</td>\n",
              "    </tr>\n",
              "    <tr>\n",
              "      <th>...</th>\n",
              "      <td>...</td>\n",
              "      <td>...</td>\n",
              "      <td>...</td>\n",
              "      <td>...</td>\n",
              "      <td>...</td>\n",
              "      <td>...</td>\n",
              "    </tr>\n",
              "    <tr>\n",
              "      <th>3331</th>\n",
              "      <td>18</td>\n",
              "      <td>272</td>\n",
              "      <td>49</td>\n",
              "      <td>146</td>\n",
              "      <td>362</td>\n",
              "      <td>56</td>\n",
              "    </tr>\n",
              "    <tr>\n",
              "      <th>3332</th>\n",
              "      <td>18</td>\n",
              "      <td>62</td>\n",
              "      <td>96</td>\n",
              "      <td>146</td>\n",
              "      <td>153</td>\n",
              "      <td>277</td>\n",
              "    </tr>\n",
              "    <tr>\n",
              "      <th>3333</th>\n",
              "      <td>18</td>\n",
              "      <td>62</td>\n",
              "      <td>134</td>\n",
              "      <td>164</td>\n",
              "      <td>165</td>\n",
              "      <td>267</td>\n",
              "    </tr>\n",
              "    <tr>\n",
              "      <th>3334</th>\n",
              "      <td>18</td>\n",
              "      <td>74</td>\n",
              "      <td>134</td>\n",
              "      <td>197</td>\n",
              "      <td>362</td>\n",
              "      <td>34</td>\n",
              "    </tr>\n",
              "    <tr>\n",
              "      <th>3336</th>\n",
              "      <td>18</td>\n",
              "      <td>157</td>\n",
              "      <td>134</td>\n",
              "      <td>355</td>\n",
              "      <td>159</td>\n",
              "      <td>200</td>\n",
              "    </tr>\n",
              "  </tbody>\n",
              "</table>\n",
              "<p>2938 rows × 6 columns</p>\n",
              "</div>"
            ],
            "text/plain": [
              "      Job_Roles  Skills_1  Skills_2  Skills_3  Skills_4  Skills_5\n",
              "1             0         0        49        84       133       142\n",
              "4             0       114       150       390        55        56\n",
              "5             0       274       109        48        56       174\n",
              "7             0       153       349         1       250       234\n",
              "8             0       114       150        49        56        85\n",
              "...         ...       ...       ...       ...       ...       ...\n",
              "3331         18       272        49       146       362        56\n",
              "3332         18        62        96       146       153       277\n",
              "3333         18        62       134       164       165       267\n",
              "3334         18        74       134       197       362        34\n",
              "3336         18       157       134       355       159       200\n",
              "\n",
              "[2938 rows x 6 columns]"
            ]
          },
          "metadata": {
            "tags": []
          },
          "execution_count": 167
        }
      ]
    },
    {
      "cell_type": "code",
      "metadata": {
        "id": "oMuT8M8m-VBF"
      },
      "source": [
        "y=df[\"Job_Roles\"]\n",
        "X=df.drop(\"Job_Roles\",axis=1)"
      ],
      "execution_count": null,
      "outputs": []
    },
    {
      "cell_type": "code",
      "metadata": {
        "colab": {
          "base_uri": "https://localhost:8080/",
          "height": 194
        },
        "id": "KgnKC3Fg-eLo",
        "outputId": "5cea36c5-40bd-4834-ca16-58c4c0d3e51c"
      },
      "source": [
        "X.head()"
      ],
      "execution_count": null,
      "outputs": [
        {
          "output_type": "execute_result",
          "data": {
            "text/html": [
              "<div>\n",
              "<style scoped>\n",
              "    .dataframe tbody tr th:only-of-type {\n",
              "        vertical-align: middle;\n",
              "    }\n",
              "\n",
              "    .dataframe tbody tr th {\n",
              "        vertical-align: top;\n",
              "    }\n",
              "\n",
              "    .dataframe thead th {\n",
              "        text-align: right;\n",
              "    }\n",
              "</style>\n",
              "<table border=\"1\" class=\"dataframe\">\n",
              "  <thead>\n",
              "    <tr style=\"text-align: right;\">\n",
              "      <th></th>\n",
              "      <th>Skills_1</th>\n",
              "      <th>Skills_2</th>\n",
              "      <th>Skills_3</th>\n",
              "      <th>Skills_4</th>\n",
              "      <th>Skills_5</th>\n",
              "    </tr>\n",
              "  </thead>\n",
              "  <tbody>\n",
              "    <tr>\n",
              "      <th>1</th>\n",
              "      <td>0</td>\n",
              "      <td>49</td>\n",
              "      <td>84</td>\n",
              "      <td>133</td>\n",
              "      <td>142</td>\n",
              "    </tr>\n",
              "    <tr>\n",
              "      <th>4</th>\n",
              "      <td>114</td>\n",
              "      <td>150</td>\n",
              "      <td>390</td>\n",
              "      <td>55</td>\n",
              "      <td>56</td>\n",
              "    </tr>\n",
              "    <tr>\n",
              "      <th>5</th>\n",
              "      <td>274</td>\n",
              "      <td>109</td>\n",
              "      <td>48</td>\n",
              "      <td>56</td>\n",
              "      <td>174</td>\n",
              "    </tr>\n",
              "    <tr>\n",
              "      <th>7</th>\n",
              "      <td>153</td>\n",
              "      <td>349</td>\n",
              "      <td>1</td>\n",
              "      <td>250</td>\n",
              "      <td>234</td>\n",
              "    </tr>\n",
              "    <tr>\n",
              "      <th>8</th>\n",
              "      <td>114</td>\n",
              "      <td>150</td>\n",
              "      <td>49</td>\n",
              "      <td>56</td>\n",
              "      <td>85</td>\n",
              "    </tr>\n",
              "  </tbody>\n",
              "</table>\n",
              "</div>"
            ],
            "text/plain": [
              "   Skills_1  Skills_2  Skills_3  Skills_4  Skills_5\n",
              "1         0        49        84       133       142\n",
              "4       114       150       390        55        56\n",
              "5       274       109        48        56       174\n",
              "7       153       349         1       250       234\n",
              "8       114       150        49        56        85"
            ]
          },
          "metadata": {
            "tags": []
          },
          "execution_count": 169
        }
      ]
    },
    {
      "cell_type": "code",
      "metadata": {
        "id": "6a0wf6Y6-f_5"
      },
      "source": [
        "X_train,X_test,y_train,y_test=train_test_split(X,y,test_size=0.10,random_state=0)"
      ],
      "execution_count": null,
      "outputs": []
    },
    {
      "cell_type": "code",
      "metadata": {
        "id": "DfpJurZL-5VC"
      },
      "source": [
        "y_test = y_test.to_numpy()\n",
        "y_train = y_train.to_numpy()\n",
        "X_train = X_train.to_numpy()\n",
        "X_test = X_test.to_numpy()"
      ],
      "execution_count": null,
      "outputs": []
    },
    {
      "cell_type": "code",
      "metadata": {
        "colab": {
          "base_uri": "https://localhost:8080/"
        },
        "id": "FkiMW0SpZSu-",
        "outputId": "830b713e-a310-4451-a8c9-5c749a73b119"
      },
      "source": [
        "y_test"
      ],
      "execution_count": null,
      "outputs": [
        {
          "output_type": "execute_result",
          "data": {
            "text/plain": [
              "array([ 8, 14,  7, 18, 18, 18, 12,  8, 17, 12, 12,  6,  7,  0,  2, 13, 18,\n",
              "        2, 12, 12, 13, 14,  0, 16, 17, 18, 14,  2,  6,  6, 14, 18, 18, 18,\n",
              "       14,  9,  1,  1, 15,  9, 18, 18,  8, 12, 13,  7, 13, 15, 10, 15,  1,\n",
              "        9, 12, 11,  9,  8, 16, 16,  6, 14, 12, 15, 15, 18,  8,  9, 14, 12,\n",
              "       16,  0, 15, 12, 12, 18,  6, 14,  1,  8, 14, 16,  8, 16, 16, 18, 15,\n",
              "       16, 11,  6, 16,  7,  0,  9,  5, 18, 15,  9, 16,  9,  2, 14, 13, 18,\n",
              "       15, 15,  8, 14,  0, 11, 14, 18, 14, 18,  1,  7, 16,  1, 12, 16, 18,\n",
              "       16, 18,  6, 14, 15,  6,  2, 12,  1,  2, 14, 14, 16, 18, 18,  9,  6,\n",
              "       12, 18,  9, 18,  1, 15, 10, 15, 14, 18, 12,  2,  7, 12,  1,  2,  6,\n",
              "       14, 12,  1, 14, 13, 16,  1,  6,  8, 10, 16,  7,  7, 12, 12,  2, 12,\n",
              "       14, 16, 12, 14,  7,  7, 16,  0, 17, 18, 16, 17,  2, 14, 13, 16,  7,\n",
              "       16, 18, 12, 13, 16, 18,  0, 15, 18,  2,  0,  8, 16,  6, 18, 12, 14,\n",
              "        1, 16,  6,  6, 14, 16, 18, 15,  7,  6, 12,  8, 18, 13, 14, 10, 18,\n",
              "       12,  6,  1, 16,  2, 11, 14, 18, 12, 12, 15,  8, 10,  8,  7,  9, 18,\n",
              "       14,  7,  8,  7,  6,  1, 18,  7, 14,  7, 12, 12,  0,  8, 15,  1, 16,\n",
              "        8, 12,  9,  8,  7, 12, 14, 18,  7,  6, 18, 17, 18, 16, 14,  1,  5,\n",
              "       18,  0, 11, 12,  8,  8, 16,  0,  9,  6, 12,  9,  9, 18, 12,  6, 14,\n",
              "        6,  1,  8,  1,  5])"
            ]
          },
          "metadata": {
            "tags": []
          },
          "execution_count": 172
        }
      ]
    },
    {
      "cell_type": "code",
      "metadata": {
        "colab": {
          "base_uri": "https://localhost:8080/"
        },
        "id": "_v37bokG-5YZ",
        "outputId": "4ea4145f-1b42-4caa-ea1d-433c452702f3"
      },
      "source": [
        "X_test"
      ],
      "execution_count": null,
      "outputs": [
        {
          "output_type": "execute_result",
          "data": {
            "text/plain": [
              "array([[132, 166,  82, 174, 197],\n",
              "       [214, 381, 226, 413,  73],\n",
              "       [ 87, 280,  88, 152, 141],\n",
              "       ...,\n",
              "       [249,  59,  62, 330,  73],\n",
              "       [144,  83, 217,  56, 142],\n",
              "       [ 87,  15, 268, 210, 456]])"
            ]
          },
          "metadata": {
            "tags": []
          },
          "execution_count": 173
        }
      ]
    },
    {
      "cell_type": "code",
      "metadata": {
        "colab": {
          "base_uri": "https://localhost:8080/",
          "height": 36
        },
        "id": "9eD2VRk0HNsM",
        "outputId": "a8ef490f-bc63-4f6e-99a2-5b958ccba18a"
      },
      "source": [
        "'''\n",
        "from sklearn.preprocessing import StandardScaler\n",
        "sc = StandardScaler()\n",
        "X_train=sc.fit_transform(X_train)\n",
        "X_test=sc.fit_transform(X_test)\n",
        "\n",
        "X_train.mean()\n",
        "'''"
      ],
      "execution_count": null,
      "outputs": [
        {
          "output_type": "execute_result",
          "data": {
            "application/vnd.google.colaboratory.intrinsic+json": {
              "type": "string"
            },
            "text/plain": [
              "'\\nfrom sklearn.preprocessing import StandardScaler\\nsc = StandardScaler()\\nX_train=sc.fit_transform(X_train)\\nX_test=sc.fit_transform(X_test)\\n\\nX_train.mean()\\n'"
            ]
          },
          "metadata": {
            "tags": []
          },
          "execution_count": 174
        }
      ]
    },
    {
      "cell_type": "code",
      "metadata": {
        "id": "Vq7ZY2JT-5bU"
      },
      "source": [
        "model = Sequential()\n",
        "\n",
        "model.add(Dense(19,input_shape = (5,),activation='relu'))\n",
        "model.add(Dense(19,activation='relu'))\n",
        "model.add(Dense(19,activation='relu'))\n",
        "model.add(Dense(19,activation='relu'))\n",
        "model.add(Dense(19,activation='relu'))\n",
        "model.add(Dense(19,activation='relu'))\n",
        "model.add(Dense(19,activation='relu'))\n",
        "model.add(Dense(1,activation='softmax'))"
      ],
      "execution_count": null,
      "outputs": []
    },
    {
      "cell_type": "code",
      "metadata": {
        "id": "h8CjZR7P-5d5"
      },
      "source": [
        "model.compile(optimizer = 'adam', loss = 'categorical_crossentropy', metrics = ['accuracy'])\n"
      ],
      "execution_count": null,
      "outputs": []
    },
    {
      "cell_type": "code",
      "metadata": {
        "colab": {
          "base_uri": "https://localhost:8080/"
        },
        "id": "tRLsZ5b3SBvQ",
        "outputId": "869ef745-f392-400e-f34c-e8a576d18215"
      },
      "source": [
        "X_train"
      ],
      "execution_count": null,
      "outputs": [
        {
          "output_type": "execute_result",
          "data": {
            "text/plain": [
              "array([[214, 140, 375, 420, 447],\n",
              "       [ 59,  49, 146, 262, 384],\n",
              "       [157, 130, 257,  70, 214],\n",
              "       ...,\n",
              "       [132, 230, 204, 183, 277],\n",
              "       [ 10, 279,  51,  70, 142],\n",
              "       [ 62, 279, 217, 242, 146]])"
            ]
          },
          "metadata": {
            "tags": []
          },
          "execution_count": 177
        }
      ]
    },
    {
      "cell_type": "code",
      "metadata": {
        "colab": {
          "base_uri": "https://localhost:8080/"
        },
        "id": "Wm0fOU9pLatH",
        "outputId": "297ba76b-bfb6-4ff6-9f94-095302b3a59e"
      },
      "source": [
        "\n",
        "model.fit(X_train, y_train, batch_size = 100, epochs = 100)"
      ],
      "execution_count": null,
      "outputs": [
        {
          "output_type": "stream",
          "text": [
            "Epoch 1/100\n",
            "27/27 [==============================] - 1s 2ms/step - loss: 0.0000e+00 - accuracy: 0.0517\n",
            "Epoch 2/100\n",
            "27/27 [==============================] - 0s 2ms/step - loss: 0.0000e+00 - accuracy: 0.0576\n",
            "Epoch 3/100\n",
            "27/27 [==============================] - 0s 2ms/step - loss: 0.0000e+00 - accuracy: 0.0591\n",
            "Epoch 4/100\n",
            "27/27 [==============================] - 0s 2ms/step - loss: 0.0000e+00 - accuracy: 0.0529\n",
            "Epoch 5/100\n",
            "27/27 [==============================] - 0s 2ms/step - loss: 0.0000e+00 - accuracy: 0.0590\n",
            "Epoch 6/100\n",
            "27/27 [==============================] - 0s 1ms/step - loss: 0.0000e+00 - accuracy: 0.0564\n",
            "Epoch 7/100\n",
            "27/27 [==============================] - 0s 2ms/step - loss: 0.0000e+00 - accuracy: 0.0496\n",
            "Epoch 8/100\n",
            "27/27 [==============================] - 0s 2ms/step - loss: 0.0000e+00 - accuracy: 0.0628\n",
            "Epoch 9/100\n",
            "27/27 [==============================] - 0s 2ms/step - loss: 0.0000e+00 - accuracy: 0.0520\n",
            "Epoch 10/100\n",
            "27/27 [==============================] - 0s 1ms/step - loss: 0.0000e+00 - accuracy: 0.0519\n",
            "Epoch 11/100\n",
            "27/27 [==============================] - 0s 1ms/step - loss: 0.0000e+00 - accuracy: 0.0528\n",
            "Epoch 12/100\n",
            "27/27 [==============================] - 0s 1ms/step - loss: 0.0000e+00 - accuracy: 0.0586\n",
            "Epoch 13/100\n",
            "27/27 [==============================] - 0s 2ms/step - loss: 0.0000e+00 - accuracy: 0.0563\n",
            "Epoch 14/100\n",
            "27/27 [==============================] - 0s 2ms/step - loss: 0.0000e+00 - accuracy: 0.0505\n",
            "Epoch 15/100\n",
            "27/27 [==============================] - 0s 2ms/step - loss: 0.0000e+00 - accuracy: 0.0550\n",
            "Epoch 16/100\n",
            "27/27 [==============================] - 0s 2ms/step - loss: 0.0000e+00 - accuracy: 0.0565\n",
            "Epoch 17/100\n",
            "27/27 [==============================] - 0s 2ms/step - loss: 0.0000e+00 - accuracy: 0.0565\n",
            "Epoch 18/100\n",
            "27/27 [==============================] - 0s 2ms/step - loss: 0.0000e+00 - accuracy: 0.0519\n",
            "Epoch 19/100\n",
            "27/27 [==============================] - 0s 2ms/step - loss: 0.0000e+00 - accuracy: 0.0559\n",
            "Epoch 20/100\n",
            "27/27 [==============================] - 0s 2ms/step - loss: 0.0000e+00 - accuracy: 0.0606\n",
            "Epoch 21/100\n",
            "27/27 [==============================] - 0s 2ms/step - loss: 0.0000e+00 - accuracy: 0.0490\n",
            "Epoch 22/100\n",
            "27/27 [==============================] - 0s 2ms/step - loss: 0.0000e+00 - accuracy: 0.0526\n",
            "Epoch 23/100\n",
            "27/27 [==============================] - 0s 2ms/step - loss: 0.0000e+00 - accuracy: 0.0546\n",
            "Epoch 24/100\n",
            "27/27 [==============================] - 0s 2ms/step - loss: 0.0000e+00 - accuracy: 0.0516\n",
            "Epoch 25/100\n",
            "27/27 [==============================] - 0s 1ms/step - loss: 0.0000e+00 - accuracy: 0.0513\n",
            "Epoch 26/100\n",
            "27/27 [==============================] - 0s 2ms/step - loss: 0.0000e+00 - accuracy: 0.0558\n",
            "Epoch 27/100\n",
            "27/27 [==============================] - 0s 2ms/step - loss: 0.0000e+00 - accuracy: 0.0535\n",
            "Epoch 28/100\n",
            "27/27 [==============================] - 0s 2ms/step - loss: 0.0000e+00 - accuracy: 0.0543\n",
            "Epoch 29/100\n",
            "27/27 [==============================] - 0s 2ms/step - loss: 0.0000e+00 - accuracy: 0.0626\n",
            "Epoch 30/100\n",
            "27/27 [==============================] - 0s 2ms/step - loss: 0.0000e+00 - accuracy: 0.0526\n",
            "Epoch 31/100\n",
            "27/27 [==============================] - 0s 2ms/step - loss: 0.0000e+00 - accuracy: 0.0575\n",
            "Epoch 32/100\n",
            "27/27 [==============================] - 0s 1ms/step - loss: 0.0000e+00 - accuracy: 0.0633\n",
            "Epoch 33/100\n",
            "27/27 [==============================] - 0s 2ms/step - loss: 0.0000e+00 - accuracy: 0.0550\n",
            "Epoch 34/100\n",
            "27/27 [==============================] - 0s 2ms/step - loss: 0.0000e+00 - accuracy: 0.0528\n",
            "Epoch 35/100\n",
            "27/27 [==============================] - 0s 2ms/step - loss: 0.0000e+00 - accuracy: 0.0515\n",
            "Epoch 36/100\n",
            "27/27 [==============================] - 0s 2ms/step - loss: 0.0000e+00 - accuracy: 0.0601\n",
            "Epoch 37/100\n",
            "27/27 [==============================] - 0s 2ms/step - loss: 0.0000e+00 - accuracy: 0.0569\n",
            "Epoch 38/100\n",
            "27/27 [==============================] - 0s 2ms/step - loss: 0.0000e+00 - accuracy: 0.0505\n",
            "Epoch 39/100\n",
            "27/27 [==============================] - 0s 2ms/step - loss: 0.0000e+00 - accuracy: 0.0551\n",
            "Epoch 40/100\n",
            "27/27 [==============================] - 0s 2ms/step - loss: 0.0000e+00 - accuracy: 0.0540\n",
            "Epoch 41/100\n",
            "27/27 [==============================] - 0s 2ms/step - loss: 0.0000e+00 - accuracy: 0.0595\n",
            "Epoch 42/100\n",
            "27/27 [==============================] - 0s 2ms/step - loss: 0.0000e+00 - accuracy: 0.0606\n",
            "Epoch 43/100\n",
            "27/27 [==============================] - 0s 2ms/step - loss: 0.0000e+00 - accuracy: 0.0528\n",
            "Epoch 44/100\n",
            "27/27 [==============================] - 0s 2ms/step - loss: 0.0000e+00 - accuracy: 0.0497\n",
            "Epoch 45/100\n",
            "27/27 [==============================] - 0s 2ms/step - loss: 0.0000e+00 - accuracy: 0.0588\n",
            "Epoch 46/100\n",
            "27/27 [==============================] - 0s 2ms/step - loss: 0.0000e+00 - accuracy: 0.0545\n",
            "Epoch 47/100\n",
            "27/27 [==============================] - 0s 2ms/step - loss: 0.0000e+00 - accuracy: 0.0618\n",
            "Epoch 48/100\n",
            "27/27 [==============================] - 0s 2ms/step - loss: 0.0000e+00 - accuracy: 0.0539\n",
            "Epoch 49/100\n",
            "27/27 [==============================] - 0s 2ms/step - loss: 0.0000e+00 - accuracy: 0.0516\n",
            "Epoch 50/100\n",
            "27/27 [==============================] - 0s 2ms/step - loss: 0.0000e+00 - accuracy: 0.0540\n",
            "Epoch 51/100\n",
            "27/27 [==============================] - 0s 2ms/step - loss: 0.0000e+00 - accuracy: 0.0531\n",
            "Epoch 52/100\n",
            "27/27 [==============================] - 0s 2ms/step - loss: 0.0000e+00 - accuracy: 0.0536\n",
            "Epoch 53/100\n",
            "27/27 [==============================] - 0s 2ms/step - loss: 0.0000e+00 - accuracy: 0.0563\n",
            "Epoch 54/100\n",
            "27/27 [==============================] - 0s 1ms/step - loss: 0.0000e+00 - accuracy: 0.0565\n",
            "Epoch 55/100\n",
            "27/27 [==============================] - 0s 2ms/step - loss: 0.0000e+00 - accuracy: 0.0572\n",
            "Epoch 56/100\n",
            "27/27 [==============================] - 0s 2ms/step - loss: 0.0000e+00 - accuracy: 0.0568\n",
            "Epoch 57/100\n",
            "27/27 [==============================] - 0s 2ms/step - loss: 0.0000e+00 - accuracy: 0.0596\n",
            "Epoch 58/100\n",
            "27/27 [==============================] - 0s 1ms/step - loss: 0.0000e+00 - accuracy: 0.0616\n",
            "Epoch 59/100\n",
            "27/27 [==============================] - 0s 2ms/step - loss: 0.0000e+00 - accuracy: 0.0580\n",
            "Epoch 60/100\n",
            "27/27 [==============================] - 0s 2ms/step - loss: 0.0000e+00 - accuracy: 0.0553\n",
            "Epoch 61/100\n",
            "27/27 [==============================] - 0s 2ms/step - loss: 0.0000e+00 - accuracy: 0.0513\n",
            "Epoch 62/100\n",
            "27/27 [==============================] - 0s 2ms/step - loss: 0.0000e+00 - accuracy: 0.0574\n",
            "Epoch 63/100\n",
            "27/27 [==============================] - 0s 2ms/step - loss: 0.0000e+00 - accuracy: 0.0604\n",
            "Epoch 64/100\n",
            "27/27 [==============================] - 0s 2ms/step - loss: 0.0000e+00 - accuracy: 0.0512\n",
            "Epoch 65/100\n",
            "27/27 [==============================] - 0s 2ms/step - loss: 0.0000e+00 - accuracy: 0.0613\n",
            "Epoch 66/100\n",
            "27/27 [==============================] - 0s 2ms/step - loss: 0.0000e+00 - accuracy: 0.0541\n",
            "Epoch 67/100\n",
            "27/27 [==============================] - 0s 2ms/step - loss: 0.0000e+00 - accuracy: 0.0574\n",
            "Epoch 68/100\n",
            "27/27 [==============================] - 0s 2ms/step - loss: 0.0000e+00 - accuracy: 0.0543\n",
            "Epoch 69/100\n",
            "27/27 [==============================] - 0s 2ms/step - loss: 0.0000e+00 - accuracy: 0.0543\n",
            "Epoch 70/100\n",
            "27/27 [==============================] - 0s 2ms/step - loss: 0.0000e+00 - accuracy: 0.0577\n",
            "Epoch 71/100\n",
            "27/27 [==============================] - 0s 2ms/step - loss: 0.0000e+00 - accuracy: 0.0519\n",
            "Epoch 72/100\n",
            "27/27 [==============================] - 0s 2ms/step - loss: 0.0000e+00 - accuracy: 0.0621\n",
            "Epoch 73/100\n",
            "27/27 [==============================] - 0s 2ms/step - loss: 0.0000e+00 - accuracy: 0.0540\n",
            "Epoch 74/100\n",
            "27/27 [==============================] - 0s 2ms/step - loss: 0.0000e+00 - accuracy: 0.0513\n",
            "Epoch 75/100\n",
            "27/27 [==============================] - 0s 2ms/step - loss: 0.0000e+00 - accuracy: 0.0567\n",
            "Epoch 76/100\n",
            "27/27 [==============================] - 0s 2ms/step - loss: 0.0000e+00 - accuracy: 0.0506\n",
            "Epoch 77/100\n",
            "27/27 [==============================] - 0s 2ms/step - loss: 0.0000e+00 - accuracy: 0.0603\n",
            "Epoch 78/100\n",
            "27/27 [==============================] - 0s 2ms/step - loss: 0.0000e+00 - accuracy: 0.0508\n",
            "Epoch 79/100\n",
            "27/27 [==============================] - 0s 2ms/step - loss: 0.0000e+00 - accuracy: 0.0629\n",
            "Epoch 80/100\n",
            "27/27 [==============================] - 0s 2ms/step - loss: 0.0000e+00 - accuracy: 0.0515\n",
            "Epoch 81/100\n",
            "27/27 [==============================] - 0s 2ms/step - loss: 0.0000e+00 - accuracy: 0.0570\n",
            "Epoch 82/100\n",
            "27/27 [==============================] - 0s 2ms/step - loss: 0.0000e+00 - accuracy: 0.0548\n",
            "Epoch 83/100\n",
            "27/27 [==============================] - 0s 2ms/step - loss: 0.0000e+00 - accuracy: 0.0475\n",
            "Epoch 84/100\n",
            "27/27 [==============================] - 0s 2ms/step - loss: 0.0000e+00 - accuracy: 0.0517\n",
            "Epoch 85/100\n",
            "27/27 [==============================] - 0s 2ms/step - loss: 0.0000e+00 - accuracy: 0.0568\n",
            "Epoch 86/100\n",
            "27/27 [==============================] - 0s 2ms/step - loss: 0.0000e+00 - accuracy: 0.0600\n",
            "Epoch 87/100\n",
            "27/27 [==============================] - 0s 2ms/step - loss: 0.0000e+00 - accuracy: 0.0600\n",
            "Epoch 88/100\n",
            "27/27 [==============================] - 0s 2ms/step - loss: 0.0000e+00 - accuracy: 0.0504\n",
            "Epoch 89/100\n",
            "27/27 [==============================] - 0s 2ms/step - loss: 0.0000e+00 - accuracy: 0.0539\n",
            "Epoch 90/100\n",
            "27/27 [==============================] - 0s 2ms/step - loss: 0.0000e+00 - accuracy: 0.0559\n",
            "Epoch 91/100\n",
            "27/27 [==============================] - 0s 2ms/step - loss: 0.0000e+00 - accuracy: 0.0571\n",
            "Epoch 92/100\n",
            "27/27 [==============================] - 0s 2ms/step - loss: 0.0000e+00 - accuracy: 0.0542\n",
            "Epoch 93/100\n",
            "27/27 [==============================] - 0s 2ms/step - loss: 0.0000e+00 - accuracy: 0.0552\n",
            "Epoch 94/100\n",
            "27/27 [==============================] - 0s 2ms/step - loss: 0.0000e+00 - accuracy: 0.0583\n",
            "Epoch 95/100\n",
            "27/27 [==============================] - 0s 2ms/step - loss: 0.0000e+00 - accuracy: 0.0587\n",
            "Epoch 96/100\n",
            "27/27 [==============================] - 0s 2ms/step - loss: 0.0000e+00 - accuracy: 0.0545\n",
            "Epoch 97/100\n",
            "27/27 [==============================] - 0s 2ms/step - loss: 0.0000e+00 - accuracy: 0.0547\n",
            "Epoch 98/100\n",
            "27/27 [==============================] - 0s 2ms/step - loss: 0.0000e+00 - accuracy: 0.0553\n",
            "Epoch 99/100\n",
            "27/27 [==============================] - 0s 2ms/step - loss: 0.0000e+00 - accuracy: 0.0491\n",
            "Epoch 100/100\n",
            "27/27 [==============================] - 0s 2ms/step - loss: 0.0000e+00 - accuracy: 0.0540\n"
          ],
          "name": "stdout"
        },
        {
          "output_type": "execute_result",
          "data": {
            "text/plain": [
              "<tensorflow.python.keras.callbacks.History at 0x7fcfc25075c0>"
            ]
          },
          "metadata": {
            "tags": []
          },
          "execution_count": 183
        }
      ]
    },
    {
      "cell_type": "code",
      "metadata": {
        "colab": {
          "base_uri": "https://localhost:8080/"
        },
        "id": "gSDfkTg-VjlO",
        "outputId": "f5df4d39-5edc-4a18-a52d-f31d10259343"
      },
      "source": [
        "model.summary()"
      ],
      "execution_count": null,
      "outputs": [
        {
          "output_type": "stream",
          "text": [
            "Model: \"sequential_10\"\n",
            "_________________________________________________________________\n",
            "Layer (type)                 Output Shape              Param #   \n",
            "=================================================================\n",
            "dense_75 (Dense)             (None, 19)                114       \n",
            "_________________________________________________________________\n",
            "dense_76 (Dense)             (None, 19)                380       \n",
            "_________________________________________________________________\n",
            "dense_77 (Dense)             (None, 19)                380       \n",
            "_________________________________________________________________\n",
            "dense_78 (Dense)             (None, 19)                380       \n",
            "_________________________________________________________________\n",
            "dense_79 (Dense)             (None, 19)                380       \n",
            "_________________________________________________________________\n",
            "dense_80 (Dense)             (None, 19)                380       \n",
            "_________________________________________________________________\n",
            "dense_81 (Dense)             (None, 19)                380       \n",
            "_________________________________________________________________\n",
            "dense_82 (Dense)             (None, 1)                 20        \n",
            "=================================================================\n",
            "Total params: 2,414\n",
            "Trainable params: 2,414\n",
            "Non-trainable params: 0\n",
            "_________________________________________________________________\n"
          ],
          "name": "stdout"
        }
      ]
    },
    {
      "cell_type": "code",
      "metadata": {
        "id": "ZWs1NKkVbQO0"
      },
      "source": [
        "y_pred = model.predict(X_test)\n",
        "#y_test_class = np.argmax(y_test)\n",
        "#y_pred_class = np.argmax(y_pred)"
      ],
      "execution_count": null,
      "outputs": []
    },
    {
      "cell_type": "code",
      "metadata": {
        "colab": {
          "base_uri": "https://localhost:8080/"
        },
        "id": "03Exc4eWcGut",
        "outputId": "d33481a1-9dba-4db4-b4aa-9271fb318b7a"
      },
      "source": [
        "from sklearn.metrics import classification_report,confusion_matrix\n",
        "print(classification_report(y_test,y_pred))\n",
        "print(confusion_matrix(y_test,y_pred))"
      ],
      "execution_count": null,
      "outputs": [
        {
          "output_type": "stream",
          "text": [
            "              precision    recall  f1-score   support\n",
            "\n",
            "           0       0.00      0.00      0.00        11\n",
            "           1       0.06      1.00      0.12        18\n",
            "           2       0.00      0.00      0.00        12\n",
            "           5       0.00      0.00      0.00         3\n",
            "           6       0.00      0.00      0.00        21\n",
            "           7       0.00      0.00      0.00        19\n",
            "           8       0.00      0.00      0.00        20\n",
            "           9       0.00      0.00      0.00        15\n",
            "          10       0.00      0.00      0.00         5\n",
            "          11       0.00      0.00      0.00         5\n",
            "          12       0.00      0.00      0.00        34\n",
            "          13       0.00      0.00      0.00         9\n",
            "          14       0.00      0.00      0.00        31\n",
            "          15       0.00      0.00      0.00        17\n",
            "          16       0.00      0.00      0.00        29\n",
            "          17       0.00      0.00      0.00         5\n",
            "          18       0.00      0.00      0.00        40\n",
            "\n",
            "    accuracy                           0.06       294\n",
            "   macro avg       0.00      0.06      0.01       294\n",
            "weighted avg       0.00      0.06      0.01       294\n",
            "\n",
            "[[ 0 11  0  0  0  0  0  0  0  0  0  0  0  0  0  0  0]\n",
            " [ 0 18  0  0  0  0  0  0  0  0  0  0  0  0  0  0  0]\n",
            " [ 0 12  0  0  0  0  0  0  0  0  0  0  0  0  0  0  0]\n",
            " [ 0  3  0  0  0  0  0  0  0  0  0  0  0  0  0  0  0]\n",
            " [ 0 21  0  0  0  0  0  0  0  0  0  0  0  0  0  0  0]\n",
            " [ 0 19  0  0  0  0  0  0  0  0  0  0  0  0  0  0  0]\n",
            " [ 0 20  0  0  0  0  0  0  0  0  0  0  0  0  0  0  0]\n",
            " [ 0 15  0  0  0  0  0  0  0  0  0  0  0  0  0  0  0]\n",
            " [ 0  5  0  0  0  0  0  0  0  0  0  0  0  0  0  0  0]\n",
            " [ 0  5  0  0  0  0  0  0  0  0  0  0  0  0  0  0  0]\n",
            " [ 0 34  0  0  0  0  0  0  0  0  0  0  0  0  0  0  0]\n",
            " [ 0  9  0  0  0  0  0  0  0  0  0  0  0  0  0  0  0]\n",
            " [ 0 31  0  0  0  0  0  0  0  0  0  0  0  0  0  0  0]\n",
            " [ 0 17  0  0  0  0  0  0  0  0  0  0  0  0  0  0  0]\n",
            " [ 0 29  0  0  0  0  0  0  0  0  0  0  0  0  0  0  0]\n",
            " [ 0  5  0  0  0  0  0  0  0  0  0  0  0  0  0  0  0]\n",
            " [ 0 40  0  0  0  0  0  0  0  0  0  0  0  0  0  0  0]]\n"
          ],
          "name": "stdout"
        },
        {
          "output_type": "stream",
          "text": [
            "/usr/local/lib/python3.6/dist-packages/sklearn/metrics/_classification.py:1272: UndefinedMetricWarning: Precision and F-score are ill-defined and being set to 0.0 in labels with no predicted samples. Use `zero_division` parameter to control this behavior.\n",
            "  _warn_prf(average, modifier, msg_start, len(result))\n"
          ],
          "name": "stderr"
        }
      ]
    },
    {
      "cell_type": "code",
      "metadata": {
        "colab": {
          "base_uri": "https://localhost:8080/"
        },
        "id": "r98sJMVkdvNx",
        "outputId": "ae35ed0f-c419-406f-bf52-cb5ac223b551"
      },
      "source": [
        "from sklearn.metrics import confusion_matrix\n",
        "\n",
        "cm = confusion_matrix(y_test, y_pred)\n",
        "\n",
        "TN = cm[0][0]\n",
        "TP = cm[1][1]\n",
        "FN = cm[1][0]\n",
        "FP = cm[0][1]\n",
        "\n",
        "print(cm)\n",
        "print('Model Accuracy = {}'.format((TN+TP) / (TP+TN+FN+FP)))"
      ],
      "execution_count": null,
      "outputs": [
        {
          "output_type": "stream",
          "text": [
            "[[ 0 11  0  0  0  0  0  0  0  0  0  0  0  0  0  0  0]\n",
            " [ 0 18  0  0  0  0  0  0  0  0  0  0  0  0  0  0  0]\n",
            " [ 0 12  0  0  0  0  0  0  0  0  0  0  0  0  0  0  0]\n",
            " [ 0  3  0  0  0  0  0  0  0  0  0  0  0  0  0  0  0]\n",
            " [ 0 21  0  0  0  0  0  0  0  0  0  0  0  0  0  0  0]\n",
            " [ 0 19  0  0  0  0  0  0  0  0  0  0  0  0  0  0  0]\n",
            " [ 0 20  0  0  0  0  0  0  0  0  0  0  0  0  0  0  0]\n",
            " [ 0 15  0  0  0  0  0  0  0  0  0  0  0  0  0  0  0]\n",
            " [ 0  5  0  0  0  0  0  0  0  0  0  0  0  0  0  0  0]\n",
            " [ 0  5  0  0  0  0  0  0  0  0  0  0  0  0  0  0  0]\n",
            " [ 0 34  0  0  0  0  0  0  0  0  0  0  0  0  0  0  0]\n",
            " [ 0  9  0  0  0  0  0  0  0  0  0  0  0  0  0  0  0]\n",
            " [ 0 31  0  0  0  0  0  0  0  0  0  0  0  0  0  0  0]\n",
            " [ 0 17  0  0  0  0  0  0  0  0  0  0  0  0  0  0  0]\n",
            " [ 0 29  0  0  0  0  0  0  0  0  0  0  0  0  0  0  0]\n",
            " [ 0  5  0  0  0  0  0  0  0  0  0  0  0  0  0  0  0]\n",
            " [ 0 40  0  0  0  0  0  0  0  0  0  0  0  0  0  0  0]]\n",
            "Model Accuracy = 0.6206896551724138\n"
          ],
          "name": "stdout"
        }
      ]
    },
    {
      "cell_type": "code",
      "metadata": {
        "id": "J_dPXaS3nrZn"
      },
      "source": [
        "#from sklearn.linear_model import LogisticRegression\n",
        "#from sklearn.tree import DecisionTreeClassifier\n",
        "#from sklearn.ensemble import RandomForestClassifier\n",
        "#from sklearn.neighbors import KNeighborsClassifier\n",
        "#from sklearn.svm import SVC\n",
        "#from sklearn.naive_bayes import GaussianNB"
      ],
      "execution_count": null,
      "outputs": []
    },
    {
      "cell_type": "code",
      "metadata": {
        "id": "rWDH8aKwn4Xf"
      },
      "source": [
        "#lr=LogisticRegression()\n",
        "#dt=DecisionTreeClassifier()\n",
        "#rm=RandomForestClassifier()\n",
        "#supvm=SVC()\n",
        "#knn=KNeighborsClassifier(n_neighbors=5)\n",
        "#gnb=GaussianNB()"
      ],
      "execution_count": null,
      "outputs": []
    },
    {
      "cell_type": "code",
      "metadata": {
        "id": "OPo9ropyoVoE"
      },
      "source": [
        "#for a,b in zip([lr,dt,rm,supvm,knn,gnb],[\"Logistic Regression\",\"Decision Tree\",\"Random Forest\",\"Support Vector Machine\",\"K Nearest Neighbours\",\"Naive Bayes\"]):\n",
        " #   a.fit(X_train,y_train)\n",
        "  #  prediction=a.predict(X_train)\n",
        "   # y_pred=a.predict(X_test)\n",
        "   # score1=accuracy_score(y_train,prediction)\n",
        "   # score=accuracy_score(y_test,y_pred)\n",
        "   # msg1=\"[%s] training data accuracy is : %f\" % (b,score1)\n",
        "   # msg2=\"[%s] test data accuracy is : %f\" % (b,score)\n",
        "   # print(msg1)\n",
        "   # print(msg2)"
      ],
      "execution_count": null,
      "outputs": []
    },
    {
      "cell_type": "code",
      "metadata": {
        "id": "3An9HXOLoVr4"
      },
      "source": [
        ""
      ],
      "execution_count": null,
      "outputs": []
    },
    {
      "cell_type": "code",
      "metadata": {
        "id": "g3dnTNsAoVqa"
      },
      "source": [
        ""
      ],
      "execution_count": null,
      "outputs": []
    },
    {
      "cell_type": "code",
      "metadata": {
        "id": "vePvIRJ1oES_"
      },
      "source": [
        ""
      ],
      "execution_count": null,
      "outputs": []
    }
  ]
}